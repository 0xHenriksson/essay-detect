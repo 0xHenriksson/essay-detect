{
  "nbformat": 4,
  "nbformat_minor": 0,
  "metadata": {
    "colab": {
      "provenance": [],
      "authorship_tag": "ABX9TyPBiP7Pxz1JJvOo18Ns4BK2",
      "include_colab_link": true
    },
    "kernelspec": {
      "name": "python3",
      "display_name": "Python 3"
    },
    "language_info": {
      "name": "python"
    }
  },
  "cells": [
    {
      "cell_type": "markdown",
      "metadata": {
        "id": "view-in-github",
        "colab_type": "text"
      },
      "source": [
        "<a href=\"https://colab.research.google.com/github/0xHenriksson/essay-detect/blob/main/detect.ipynb\" target=\"_parent\"><img src=\"https://colab.research.google.com/assets/colab-badge.svg\" alt=\"Open In Colab\"/></a>"
      ]
    },
    {
      "cell_type": "markdown",
      "source": [
        "# Essay Analyzer\n",
        "\n",
        "This notebook is focused on determining whether or not a particular text, in this case a student's essay, is written by AI or not.\n",
        "\n",
        "Method(s):\n",
        "- Using the original assignment instructions, prompt popular model providers (OpenAI, Anthropic, Google) for ~10 complete essays.\n",
        "- Use an embedding model to create a vector embedding representation of the essays\n",
        "- use various techniques to compare the semantic and syntactical structure of the student's essay compared to that of the model outputs\n",
        "- use as many novel methods as possible\n",
        "- visualize embedding comparisons\n",
        "\n",
        "## Statistical Methods\n",
        "- word and phrase freq\n",
        "- perplexity\n",
        "- stylometry\n",
        "- semantic coherence\n",
        "\n",
        "## Mathematical Methods\n",
        "- Total Variation distance\n",
        "- Perturbation discrepancy detection"
      ],
      "metadata": {
        "id": "zZtZLAeBcWeL"
      }
    },
    {
      "source": [
        "# special installs\n",
        "!pip install transformers torch spacy nltk"
      ],
      "cell_type": "code",
      "metadata": {
        "id": "_gJIOHY5tR4A"
      },
      "execution_count": null,
      "outputs": []
    },
    {
      "source": [
        "# Download the spaCy language model\n",
        "!python -m spacy download en_core_web_sm"
      ],
      "cell_type": "code",
      "metadata": {
        "id": "OzYLUBbmtVYT"
      },
      "execution_count": null,
      "outputs": []
    },
    {
      "cell_type": "code",
      "execution_count": null,
      "metadata": {
        "id": "Kp8DNgoobxcQ"
      },
      "outputs": [],
      "source": [
        "import numpy as np\n",
        "from transformers import AutoTokenizer, AutoModel\n",
        "from scipy.spatial.distances import cosine\n",
        "from nltk.tokenize import sent_tokenize\n",
        "import torch\n",
        "from typing import List, Tuple, Dict\n",
        "import spacy\n",
        "from collections import defaultdict"
      ]
    },
    {
      "cell_type": "markdown",
      "source": [
        "Load in the essay"
      ],
      "metadata": {
        "id": "aOU6ctH1h-Pv"
      }
    },
    {
      "cell_type": "code",
      "source": [
        "# mount the drive\n",
        "from google.colab import drive\n",
        "# authentication\n",
        "from google.colab import auth\n",
        "\n",
        "username = \"\"\n",
        "password = \"\"\n",
        "\n",
        "auth.authenticate_user()\n",
        "\n",
        "drive.mount('/content/drive')"
      ],
      "metadata": {
        "colab": {
          "base_uri": "https://localhost:8080/"
        },
        "id": "SHWPAYNeiOmN",
        "outputId": "5818f445-f6c7-49bb-850e-b0e4c2297999"
      },
      "execution_count": 7,
      "outputs": [
        {
          "output_type": "stream",
          "name": "stdout",
          "text": [
            "Drive already mounted at /content/drive; to attempt to forcibly remount, call drive.mount(\"/content/drive\", force_remount=True).\n"
          ]
        }
      ]
    },
    {
      "cell_type": "code",
      "source": [
        "# read the essay text\n",
        "with open('/content/drive/MyDrive/detect/essay.txt', 'r') as file:\n",
        "    essay_text = file.read()\n",
        "\n",
        "essay_text"
      ],
      "metadata": {
        "colab": {
          "base_uri": "https://localhost:8080/",
          "height": 157
        },
        "id": "cNM-BfcartkB",
        "outputId": "b00d4a39-8b1b-4e80-f509-a8a30fde3b26"
      },
      "execution_count": 9,
      "outputs": [
        {
          "output_type": "execute_result",
          "data": {
            "text/plain": [
              "\"Hedda Gabler Theme Essay\\n\\tLife is commonly filled with mishaps and unfair standards that may push one past their breaking point. From unfair treatment and oppression, to tragedy, life is filled with complex challenges that may affect every person in a different way, completely flipping the morals and minds of characters. Throughout Henrik Ibsen’s Play Hedda Gabler, Hedda, the main character, embodies the difficulties and struggles of life, especially for women throughout the 19th century. Hedda is trapped in a loop filled with tragedy and manipulation that leads to her eventually tragic demise, struggles with identity, and the oppressive constraints of societal gender roles, completely altering her character while also conveying a deeper message through her character. The journey of Hedda reveals key themes that serve to highlight the tragedies of Heddas life, the extreme inner turmoil regarding her identity, and her deep battle against the confining expectations placed upon women during the time. Through her actions and desires, Ibsen negatively connotated the mistreatment of women at the time, displaying Hedda as both a figure of admiration and contempt.\\nHeddas life unfolds as a tragic narrative marked by a series of desperate attempts to have control over her own life as well as others, despite the constant struggles she’s faced leading her away from this life. This is clearly illustrated in the fate of her former lover, Eljert Lovborg, whose suicide by gunshot reveals Hedda’s direct responsibility and manipulation that led to this tragedy. Hedda is exposed to be a very manipulative character due to her personal inner conflict. According to  Puja Sarkar in his undergraduate research paper,“Hedda appeared to be a female character filled with malicious intent and no clear objective.” Sarkar emphasizes Hedda dissociation with other people's emotions, manipulating and completely altering people's lives without a true intent. She simply is insecure, and  highlights harsh emotions that lead to her tragic demise. The line “Well then, somewhere else. I don't know exactly. I only know that he was found-- He had shot himself-- in the breast” (Ibsen Act 4, Pg 62), which conveys not only the tragedy of Lovborg's demise, but also really illustrates the extreme manipulation tactics that Hedda uses to gain control over others, completely glazing over that fact that she is the reason Lovborg even had the gun, primarily due to her inability to be content within her own life. As she hands hands Lovborg the gun and says, “Take it-- and do you use it now” (Ibsen Act 4, page 56), it serves as a chilling foreshadowing of his tragic end, while also displaying the disgusting actions Hedda has commited due to her own mental struggles with the constraints of society Hedda’s suicide later in the play truly helps to further the theme of harened and unecessary tragedy, believing she has no escape from a life bound by societal expectations, she chooses death over continuing to live. The moment she ends her life serves as an act of defiance, reflecting her tragic desire to be independent in an oppressive world, feeling as if there was no escape: “Shot herself! Shot herself in the temple! Fancy that!” (Act 4). Thus, her life and death embody the tragic consequences of societal constraints that have drained the hope out of her\\nHedda’s conflict with her identity is deeply linked with her societal role and personal wants, not needs. She is married to George Tessman who is an academic man interested in \\nresearch, yet she finds herself trapped in a traditional domestic houserole that doesn’t satisfy her and leads her to feel like she is lacking independence and true purpose in her life. This leads her to question her value and purpose, wondering if there is an alternative life for her out there, where she is independent and leading the life she truly strives for. Although she confronts the reality of her pregnancy, Hedda struggles to deal with her emotions regarding this new chapter, grappling with her desire for meaning in her life. Her contemplation of violence aimed at her body; aiming the muzzle of a pistol at her stomach; reveals a profound disconnect between her self perception and societal expectations, while also foreshadowing her future for the audience. Ibsen captures her despair as she continues to struggle with her emotions and foreshadows suicide, highlighting her inability to fulfill the demands of her identity and societal obligations. This internal battle ultimately leads to her tragic demise, failing to find a path that aligns with her own wants, leading the readers to understand the complex theme that unfortunately inner conflict can lead to deep tragedy while tearing a person down inside and out, brick by brick.\\nHedda’s experience vividly illustrates the conflict between the restrictive societal roles assigned to women and her desire for independence and power. Living as a housewife in a very traditional role, she perceives her role as oppressive. This leads her to yearn for a life that ascends past these expectations placed upon her, leading her to believe this is the solution to the complex desire she has to escape from everything. Throughout the playwright, Ibsen continuity implies that Hedda’s ambitions and attempts to achieve this life were continuously thwarted by the anchor that was society, and the moral obligations that were expected of her at the time. In a short essay labeled “Problems of Identity in Hedda Gabler”, written by Yvonne L. Sandstroem, it is quoted that “For Hedda too, the return to Norway means a return to a changed status. She is now Jorge Tessman’s wife rather than General Gabler's daughter…” Sandstroem does an amazing job representing how women were labeled back then. Simply as almost beneficiaries or objects to the men in their lives. Women didn’t have their own title or their own destiny, which is mainly why Hedda deeply struggled with the common societal constraints that held her back from who she believed she could be, characterizing her embodiment of deep resentment for these constraints and her life in general. She also expresses this resentment when she declares “Yes, I have. I want for once in my life to have power to mild a human destiny”( Ibsen Act 2, Pg 42). This desire to engage in a world that is traditionally dominated by men signifies her rejection of womanhood as defined by the Victorian era. Her push against these boundaries would however, result in destructive consequences as her attempts to seize power lead to her isolation and eventual downfall. Hedda’s struggles for power are not merely personal, it is symbolic of a much broader spectrum of societal tensions, truly illustrating the tragic cost of defying gender roles at the time.\\nHedda Gabler serves as a powerful exploration of tragedy, identity, and the true effects of the conflict between societal gender roles and personal aspirations. Ibsen created Hedda as a character whose flaws and desires connect and resonate deeply with the audience, challenging them to relate to her and understand the turmoil she truly faced. The tragic narrative of Hedda not only critiques the limitations placed upon women throughout the Victorian Era, but also invites a reflection on the tension that is caused by societal expectations and the pursuit of fulfillment in one's life. Through her pain, struggles, and defiance, Ibsen is able to display Hedda as an enduring symbol of the struggle for identity while being told you’re supposed to be one way your entire life. This helped to craft Hedda as both a relatable figure to the audience, as well as a tragic figure.\\nWork Cited\\n https://dspace.bracu.ac.bd/xmlui/handle/10361/17226\\nSarkar, Puja. “Identity, Self-Realization and the Embodiment of Womanhood in Henrik Ibsen’s Nora Helmer and Hedda Gabler.” Dspace.bracu.ac.bd, June 2022, dspace.bracu.ac.bd/xmlui/handle/10361/17226. Accessed 22 Nov. 2024.\\n\\nhttps://blogs.baruch.cuny.edu/greatworks540spring2013/files/2013/03/Henrik-Ibsen_Hedda-Gabler.pdf\\nHedda Gabler, web.english.upenn.edu/~cmazer/hedda.html. Accessed 16 Dec. 2024. \\n\\nhttps://www.jstor.org/stable/40918629\\nSandstroem, Yvonne L. “Problems of Identity in “Hedda Gabler.”” Scandinavian Studies, vol. 51, no. 4, 1979, pp. 368–374, www.jstor.org/stable/40918629.\\n\\n\\nhttps://web.english.upenn.edu/~cmazer/hedda.html\\nMazer, Cary. “Hedda Gabler.” Web.english.upenn.edu, web.english.upenn.edu/~cmazer/hedda.html.\\n\\n\\n\""
            ],
            "application/vnd.google.colaboratory.intrinsic+json": {
              "type": "string"
            }
          },
          "metadata": {},
          "execution_count": 9
        }
      ]
    },
    {
      "cell_type": "code",
      "source": [
        "# read in the assignment text to be used for prompting\n",
        "with open('/content/drive/MyDrive/detect/assignment.txt', 'r') as file:\n",
        "  assignment_text = file.read()\n",
        "\n",
        "assignment_text"
      ],
      "metadata": {
        "colab": {
          "base_uri": "https://localhost:8080/",
          "height": 157
        },
        "id": "F7RIvgXJshfH",
        "outputId": "dcfb1bd9-cb07-4f0d-83fd-b8b4d08e93ab"
      },
      "execution_count": 11,
      "outputs": [
        {
          "output_type": "execute_result",
          "data": {
            "text/plain": [
              "'Fiction Analysis Essay:  Theme\\nAP Literature and Composition  (100 Points)\\n\\nText Options:\\nNative Son by Richard Wright\\nWuthering Heights by Emily Bronte\\nFrankenstein by Mary Shelley\\n“Babylon Revisited” by F. Scott Fitzgerald\\n“Hunters in the Snow” by Tobias Wolff\\n\\nPrompt:\\nAuthors become famous for their ability to use complex literary devices to reveal a criticism, reflect a social or political issue, and/or discuss the complexity and truth of human nature into the meaning of their work as a whole.  Simply stated, to understand theme is to understand an author’s work.\\n\\nIn a fully-developed composition (no longer than four pages in MLA format), analyze several complex themes (approximately 3; better to go deep) in a work of your choice that we have read this semester. Make sure you take a unique approach while analyzing this piece, incorporate and properly use textual evidence, and fully support a clearly-defined original thesis.  Your essay should clearly reveal the writer’s purpose and overarching goals in writing this work. \\n\\nPlease note:  Themes stated as motifs will not be accepted and result in a failing grade (No credit example:  One theme in Wuthering Heights is all-consuming passion.)  I suggest you review your theme notes, half sheet, sample themes we have written in class, and chapter 4 in Perrine’s before you begin.  Part of this is proving you are competent at constructing proper theme statements.  When in doubt, have your teacher look over them.  \\n\\nSome questions to ask yourself:\\nWhat universal truths is the writer trying to portray to the reader?  What does the text make one ponder and perhaps think differently about after reading it?  \\nBy what means does this theme become revealed?  What were key plot events, characters, conflicts, aspects of narration, etc. that illustrated each theme? \\nHow can I best defend my theme statements/thesis?  What is the best evidence in the text to quote and paraphrase to support my ideas?\\nWhat outside research agrees with my interpretations?  Is it from a university or other academic organization worthy of a college paper? (No e-notes, Spark Notes, Cliff notes, AI, Wikipedia, LitCharts, etc.) \\nWhat can I include from Foster’s book that is related to my theme statements?  How does the genre, time period, author’s background, and other external factors influence the themes of this text as well?   \\n\\n\\nMisc. Requirements:\\n-Approx. 3-4 pages in length, double-spaced, 12 point, plain font in MLA format\\n-hard copy and electronic copy on Turnitin submitted on due date (day of midterm)\\n-separate Works Cited page with a minimum of four credible sources in MLA format:\\n\\t-Foster’s book, the piece itself, (2) outside research:  academic journals only\\n-proper in-text citations of the researched information and quotes from the literary work\\n-ABSOLUTELY NO PLAGIARISM or use of AI or you will fail this assignment and receive a discipline referral.\\n'"
            ],
            "application/vnd.google.colaboratory.intrinsic+json": {
              "type": "string"
            }
          },
          "metadata": {},
          "execution_count": 11
        }
      ]
    },
    {
      "cell_type": "markdown",
      "source": [
        "# Prompt Construction\n",
        "Attempt to reconstruct a prompt similar to what the student may have used when asking the AI to write the essay"
      ],
      "metadata": {
        "id": "s96HIOcLuL9p"
      }
    },
    {
      "cell_type": "code",
      "source": [
        "# put the title of the media here (book, play, poem, etc)\n",
        "media_title = \"Hedda Gabler\"\n",
        "author = \"Henrik Ibsen\"\n",
        "\n",
        "prompt = f\"Write an essay about {media_title} by {author} that follows these requirements {assignment_text}\"\n",
        "\n",
        "prompt"
      ],
      "metadata": {
        "colab": {
          "base_uri": "https://localhost:8080/",
          "height": 157
        },
        "id": "_N4w3xNYuB9n",
        "outputId": "2f93cd54-9781-4ed3-e020-8fce23c12b58"
      },
      "execution_count": 12,
      "outputs": [
        {
          "output_type": "execute_result",
          "data": {
            "text/plain": [
              "'Write an essay about Hedda Gabler by Henrik Ibsen that follows these requirements Fiction Analysis Essay:  Theme\\nAP Literature and Composition  (100 Points)\\n\\nText Options:\\nNative Son by Richard Wright\\nWuthering Heights by Emily Bronte\\nFrankenstein by Mary Shelley\\n“Babylon Revisited” by F. Scott Fitzgerald\\n“Hunters in the Snow” by Tobias Wolff\\n\\nPrompt:\\nAuthors become famous for their ability to use complex literary devices to reveal a criticism, reflect a social or political issue, and/or discuss the complexity and truth of human nature into the meaning of their work as a whole.  Simply stated, to understand theme is to understand an author’s work.\\n\\nIn a fully-developed composition (no longer than four pages in MLA format), analyze several complex themes (approximately 3; better to go deep) in a work of your choice that we have read this semester. Make sure you take a unique approach while analyzing this piece, incorporate and properly use textual evidence, and fully support a clearly-defined original thesis.  Your essay should clearly reveal the writer’s purpose and overarching goals in writing this work. \\n\\nPlease note:  Themes stated as motifs will not be accepted and result in a failing grade (No credit example:  One theme in Wuthering Heights is all-consuming passion.)  I suggest you review your theme notes, half sheet, sample themes we have written in class, and chapter 4 in Perrine’s before you begin.  Part of this is proving you are competent at constructing proper theme statements.  When in doubt, have your teacher look over them.  \\n\\nSome questions to ask yourself:\\nWhat universal truths is the writer trying to portray to the reader?  What does the text make one ponder and perhaps think differently about after reading it?  \\nBy what means does this theme become revealed?  What were key plot events, characters, conflicts, aspects of narration, etc. that illustrated each theme? \\nHow can I best defend my theme statements/thesis?  What is the best evidence in the text to quote and paraphrase to support my ideas?\\nWhat outside research agrees with my interpretations?  Is it from a university or other academic organization worthy of a college paper? (No e-notes, Spark Notes, Cliff notes, AI, Wikipedia, LitCharts, etc.) \\nWhat can I include from Foster’s book that is related to my theme statements?  How does the genre, time period, author’s background, and other external factors influence the themes of this text as well?   \\n\\n\\nMisc. Requirements:\\n-Approx. 3-4 pages in length, double-spaced, 12 point, plain font in MLA format\\n-hard copy and electronic copy on Turnitin submitted on due date (day of midterm)\\n-separate Works Cited page with a minimum of four credible sources in MLA format:\\n\\t-Foster’s book, the piece itself, (2) outside research:  academic journals only\\n-proper in-text citations of the researched information and quotes from the literary work\\n-ABSOLUTELY NO PLAGIARISM or use of AI or you will fail this assignment and receive a discipline referral.\\n'"
            ],
            "application/vnd.google.colaboratory.intrinsic+json": {
              "type": "string"
            }
          },
          "metadata": {},
          "execution_count": 12
        }
      ]
    },
    {
      "cell_type": "code",
      "source": [
        "# perturb the prompt slightly"
      ],
      "metadata": {
        "id": "_sQDl7sKFibX"
      },
      "execution_count": null,
      "outputs": []
    },
    {
      "cell_type": "code",
      "source": [
        "class TextSimilarityAnalyzer:\n",
        "    def __init__(self, model_name: str = \"sentence-transformers/all-mpnet-base-v2\"):\n",
        "        self.device = torch.device(\"cuda\" if torch.cuda.is_available() else \"cpu\")\n",
        "        self.tokenizer = AutoTokenizer.from_pretrained(model_name)\n",
        "        self.model = AutoModel.from_pretrained(model_name).to(self.device)\n",
        "        self.nlp = spacy.load(\"en_core_web_sm\")\n",
        "\n",
        "    def get_embeddings(self, text: str) -> np.ndarray:\n",
        "        \"\"\"Generate sentence embeddings using transformer model.\"\"\"\n",
        "        inputs = self.tokenizer(text, return_tensors=\"pt\", padding=True, truncation=True)\n",
        "        inputs = {k: v.to(self.device) for k, v in inputs.items()}\n",
        "\n",
        "        with torch.no_grad():\n",
        "            outputs = self.model(**inputs)\n",
        "            embeddings = outputs.last_hidden_state.mean(dim=1)\n",
        "\n",
        "        return embeddings.cpu().numpy()\n",
        "\n",
        "    def syntactic_features(self, text: str) -> Dict:\n",
        "        \"\"\"Extract syntactic features using spaCy.\"\"\"\n",
        "        doc = self.nlp(text)\n",
        "        features = defaultdict(int)\n",
        "\n",
        "        # Analyze sentence structure\n",
        "        for sent in doc.sents:\n",
        "            features['sent_length'] += len(sent)\n",
        "            features['dep_tree_depth'] += self._get_dep_tree_depth(sent.root)\n",
        "\n",
        "        # POS tag distribution\n",
        "        for token in doc:\n",
        "            features[f'pos_{token.pos_}'] += 1\n",
        "\n",
        "        # Normalize features\n",
        "        total_tokens = len(doc)\n",
        "        return {k: v/total_tokens for k, v in features.items()}\n",
        "\n",
        "    def _get_dep_tree_depth(self, root) -> int:\n",
        "        \"\"\"Calculate dependency tree depth recursively.\"\"\"\n",
        "        if not list(root.children):\n",
        "            return 0\n",
        "        return 1 + max(self._get_dep_tree_depth(child) for child in root.children)\n",
        "\n",
        "    def compare_texts(self, original: str, generated_samples: List[str]) -> Dict[str, List[float]]:\n",
        "        \"\"\"Compare original text against multiple generated samples.\"\"\"\n",
        "        results = {\n",
        "            'semantic_similarity': [],\n",
        "            'syntactic_similarity': [],\n",
        "            'combined_score': []\n",
        "        }\n",
        "\n",
        "        # Get features for original text\n",
        "        orig_embedding = self.get_embeddings(original)\n",
        "        orig_syntactic = self.syntactic_features(original)\n",
        "\n",
        "        for sample in generated_samples:\n",
        "            # Semantic similarity using embeddings\n",
        "            sample_embedding = self.get_embeddings(sample)\n",
        "            semantic_sim = 1 - cosine(orig_embedding.flatten(), sample_embedding.flatten())\n",
        "\n",
        "            # Syntactic similarity using feature vectors\n",
        "            sample_syntactic = self.syntactic_features(sample)\n",
        "            syntactic_sim = self._compare_feature_dicts(orig_syntactic, sample_syntactic)\n",
        "\n",
        "            # Combined score (weighted average)\n",
        "            combined = 0.6 * semantic_sim + 0.4 * syntactic_sim\n",
        "\n",
        "            results['semantic_similarity'].append(semantic_sim)\n",
        "            results['syntactic_similarity'].append(syntactic_sim)\n",
        "            results['combined_score'].append(combined)\n",
        "\n",
        "        return results\n",
        "\n",
        "    def _compare_feature_dicts(self, dict1: Dict, dict2: Dict) -> float:\n",
        "        \"\"\"Compare two feature dictionaries using cosine similarity.\"\"\"\n",
        "        keys = set(dict1.keys()) | set(dict2.keys())\n",
        "        vec1 = np.array([dict1.get(k, 0) for k in keys])\n",
        "        vec2 = np.array([dict2.get(k, 0) for k in keys])\n",
        "        return 1 - cosine(vec1, vec2)\n",
        "\n",
        "# Example usage\n",
        "def analyze_submission(submission_text: str,\n",
        "                      prompt: str,\n",
        "                      model_outputs: List[str],\n",
        "                      threshold: float = 0.85) -> Tuple[bool, Dict]:\n",
        "    \"\"\"\n",
        "    Analyze if a submission is likely AI-generated.\n",
        "\n",
        "    Args:\n",
        "        submission_text: The text to analyze\n",
        "        prompt: The original assignment prompt\n",
        "        model_outputs: List of outputs from various LLMs using the same prompt\n",
        "        threshold: Similarity threshold for flagging potential AI generation\n",
        "\n",
        "    Returns:\n",
        "        Tuple of (is_likely_ai: bool, detailed_results: Dict)\n",
        "    \"\"\"\n",
        "    analyzer = TextSimilarityAnalyzer()\n",
        "    results = analyzer.compare_texts(submission_text, model_outputs)\n",
        "\n",
        "    # Calculate average similarities\n",
        "    avg_semantic = np.mean(results['semantic_similarity'])\n",
        "    avg_syntactic = np.mean(results['syntactic_similarity'])\n",
        "    avg_combined = np.mean(results['combined_score'])\n",
        "\n",
        "    # Flag if similarity exceeds threshold\n",
        "    is_likely_ai = avg_combined > threshold\n",
        "\n",
        "    detailed_results = {\n",
        "        'is_likely_ai': is_likely_ai,\n",
        "        'similarity_scores': results,\n",
        "        'averages': {\n",
        "            'semantic': avg_semantic,\n",
        "            'syntactic': avg_syntactic,\n",
        "            'combined': avg_combined\n",
        "        }\n",
        "    }\n",
        "\n",
        "    return is_likely_ai, detailed_results"
      ],
      "metadata": {
        "id": "UiHvSsDDfFS2"
      },
      "execution_count": null,
      "outputs": []
    },
    {
      "cell_type": "code",
      "source": [
        "# generate 10 essays from each model provider: openai, anthropic, google\n"
      ],
      "metadata": {
        "id": "74AyVSGMvXXM"
      },
      "execution_count": null,
      "outputs": []
    },
    {
      "cell_type": "code",
      "source": [],
      "metadata": {
        "id": "__BGjOEjGV4u"
      },
      "execution_count": null,
      "outputs": []
    },
    {
      "cell_type": "markdown",
      "source": [],
      "metadata": {
        "id": "PNF8Qa7dGWGq"
      }
    },
    {
      "cell_type": "markdown",
      "source": [
        "Note to self: Am I losing similarity by using the API rather than the chat window like the student likely does"
      ],
      "metadata": {
        "id": "nzhGbbSXEWBG"
      }
    },
    {
      "cell_type": "code",
      "source": [
        "model_providers = [\n",
        "    {\"provider\": \"openai\", \"models\": [\"text-davinci-003\", \"gpt-3.5-turbo\"]},\n",
        "    {\"provider\": \"anthropic\", \"models\": [\"claude-2\"]},\n",
        "    {\"provider\": \"google\", \"models\": [\"PaLM 2\"]}\n",
        "]"
      ],
      "metadata": {
        "id": "tWR9mjjtDn0d"
      },
      "execution_count": null,
      "outputs": []
    },
    {
      "cell_type": "code",
      "source": [
        "# create an embedding of the model outputs\n",
        "# might have to upload to a vectordb"
      ],
      "metadata": {
        "id": "GCGe2f8u8fmL"
      },
      "execution_count": null,
      "outputs": []
    },
    {
      "cell_type": "code",
      "source": [
        "# plot the embedding"
      ],
      "metadata": {
        "id": "Ox_ev0_q8mjr"
      },
      "execution_count": null,
      "outputs": []
    },
    {
      "cell_type": "code",
      "source": [
        "# compare semantic similarity\n",
        "# output scores\n",
        "# 3D plot with semantic similarity scores showing how close the essay is to the model outputs in the embedding\n",
        "#"
      ],
      "metadata": {
        "id": "M-1dVmqA8wp1"
      },
      "execution_count": 14,
      "outputs": []
    },
    {
      "cell_type": "code",
      "source": [
        "# compare syntactical similarity"
      ],
      "metadata": {
        "id": "AukKMlbr-bAU"
      },
      "execution_count": null,
      "outputs": []
    },
    {
      "cell_type": "markdown",
      "source": [
        "Statistical Methods"
      ],
      "metadata": {
        "id": "8Klt-aHV_Kkf"
      }
    },
    {
      "cell_type": "code",
      "source": [
        "# calculate word and phrase frequency, compare to model outputs"
      ],
      "metadata": {
        "id": "PQY7jBhA-zJg"
      },
      "execution_count": null,
      "outputs": []
    },
    {
      "cell_type": "code",
      "source": [
        "# calculate essay perplexity and compare to model output perplexity"
      ],
      "metadata": {
        "id": "DhIKKV3v-42E"
      },
      "execution_count": null,
      "outputs": []
    },
    {
      "cell_type": "code",
      "source": [
        "# compare stylometry somehow"
      ],
      "metadata": {
        "id": "cFMHTeNX-_DG"
      },
      "execution_count": null,
      "outputs": []
    },
    {
      "cell_type": "code",
      "source": [
        "# compute and compare semantic coherence"
      ],
      "metadata": {
        "id": "hUhSgci3_DlP"
      },
      "execution_count": null,
      "outputs": []
    },
    {
      "cell_type": "markdown",
      "source": [
        "Mathematical Methods"
      ],
      "metadata": {
        "id": "l6iSuKh0_M2U"
      }
    },
    {
      "cell_type": "code",
      "source": [
        "# calculate Total Variation distance between the essay and the model outputs"
      ],
      "metadata": {
        "id": "y8sgW1dt_Ibo"
      },
      "execution_count": null,
      "outputs": []
    },
    {
      "cell_type": "code",
      "source": [
        "# Perturbation discrepancy detection method"
      ],
      "metadata": {
        "id": "tKVqKpYE_VWH"
      },
      "execution_count": null,
      "outputs": []
    }
  ]
}