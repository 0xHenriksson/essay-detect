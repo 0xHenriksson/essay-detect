{
  "cells": [
    {
      "cell_type": "markdown",
      "metadata": {
        "id": "view-in-github",
        "colab_type": "text"
      },
      "source": [
        "<a href=\"https://colab.research.google.com/github/0xHenriksson/essay-detect/blob/main/detect.ipynb\" target=\"_parent\"><img src=\"https://colab.research.google.com/assets/colab-badge.svg\" alt=\"Open In Colab\"/></a>"
      ]
    },
    {
      "cell_type": "markdown",
      "metadata": {
        "id": "zZtZLAeBcWeL"
      },
      "source": [
        "# Essay Analyzer\n",
        "\n",
        "Objective: Determine if an essay submitted by a student is written by AI or not.\n",
        "\n",
        "Methods;\n",
        "- Using the original assignment instructions, prompt popular model providers (OpenAI, Anthropic, Google) for ~10 complete essays.\n",
        "- Create an embedding of the AI essays\n",
        "- Use FAISS and other analytical methods to compare the student's essay to the AI essays\n",
        "    - use either the embedding or the text directly\n",
        "\n",
        "## NLP Methods\n",
        "- semantic similarity\n",
        "- syntactical similarity\n",
        "## Statistical Methods\n",
        "- word and phrase frequency\n",
        "- perplexity\n",
        "- stylometry\n",
        "- semantic coherence\n",
        "\n",
        "## Mathematical Methods\n",
        "- Total Variation distance\n",
        "- Perturbation discrepancy detection"
      ]
    },
    {
      "cell_type": "code",
      "execution_count": 1,
      "metadata": {
        "id": "_gJIOHY5tR4A"
      },
      "outputs": [],
      "source": [
        "%%capture\n",
        "!pip install transformers torch spacy nltk SCIPY faiss-gpu scikit-learn"
      ]
    },
    {
      "cell_type": "code",
      "source": [
        "# !pip install flash-attn"
      ],
      "metadata": {
        "id": "LbMM5hPo-Wig"
      },
      "execution_count": 2,
      "outputs": []
    },
    {
      "cell_type": "code",
      "execution_count": 3,
      "metadata": {
        "id": "OzYLUBbmtVYT"
      },
      "outputs": [],
      "source": [
        "%%capture\n",
        "# Download the spaCy language model\n",
        "!python -m spacy download en_core_web_sm"
      ]
    },
    {
      "cell_type": "code",
      "execution_count": 4,
      "metadata": {
        "id": "Kp8DNgoobxcQ",
        "colab": {
          "base_uri": "https://localhost:8080/"
        },
        "outputId": "83ce0d71-6da8-49a8-fd04-2f0a9e6c0b14"
      },
      "outputs": [
        {
          "output_type": "stream",
          "name": "stderr",
          "text": [
            "[nltk_data] Downloading package punkt_tab to /root/nltk_data...\n",
            "[nltk_data]   Package punkt_tab is already up-to-date!\n"
          ]
        }
      ],
      "source": [
        "import numpy as np\n",
        "from transformers import AutoTokenizer, AutoModel\n",
        "from scipy.spatial.distance import cosine\n",
        "from nltk.tokenize import sent_tokenize\n",
        "import torch\n",
        "from typing import List, Tuple, Dict\n",
        "import spacy\n",
        "from collections import defaultdict\n",
        "import nltk\n",
        "nltk.download('punkt_tab')\n",
        "from nltk.tokenize import word_tokenize\n",
        "from google.colab import drive\n",
        "from google.colab import auth"
      ]
    },
    {
      "cell_type": "markdown",
      "metadata": {
        "id": "aOU6ctH1h-Pv"
      },
      "source": [
        "Load in the student essay, assignment, and 10 examples from the ChatGPT interface."
      ]
    },
    {
      "cell_type": "code",
      "execution_count": 5,
      "metadata": {
        "colab": {
          "base_uri": "https://localhost:8080/"
        },
        "id": "SHWPAYNeiOmN",
        "outputId": "350a62a6-41d1-4dd5-9639-da5013da69d5"
      },
      "outputs": [
        {
          "output_type": "stream",
          "name": "stdout",
          "text": [
            "Drive already mounted at /content/drive; to attempt to forcibly remount, call drive.mount(\"/content/drive\", force_remount=True).\n"
          ]
        }
      ],
      "source": [
        "\n",
        "auth.authenticate_user()\n",
        "\n",
        "drive.mount('/content/drive')\n",
        "\n",
        "# read the essay text\n",
        "with open('/content/drive/MyDrive/detect/student_essay.txt', 'r') as file:\n",
        "    student_essay = file.read()\n",
        "\n",
        "# read in the assignment text to be used for prompting\n",
        "with open('/content/drive/MyDrive/detect/assignment.txt', 'r') as file:\n",
        "  assignment_text = file.read()\n",
        "\n",
        "# read in all 10 ai generated essays labeled oai_essay{1-10}.txt\n",
        "with open('/content/drive/MyDrive/detect/oai_essay1.txt', 'r') as file:\n",
        "    oai_essay1 = file.read()\n",
        "\n",
        "with open('/content/drive/MyDrive/detect/oai_essay2.txt', 'r') as file:\n",
        "    oai_essay2 = file.read()\n",
        "\n",
        "with open('/content/drive/MyDrive/detect/oai_essay3.txt', 'r') as file:\n",
        "    oai_essay3 = file.read()\n",
        "\n",
        "with open('/content/drive/MyDrive/detect/oai_essay4.txt', 'r') as file:\n",
        "    oai_essay4 = file.read()\n",
        "\n",
        "with open('/content/drive/MyDrive/detect/oai_essay5.txt', 'r') as file:\n",
        "    oai_essay5 = file.read()\n",
        "\n",
        "with open('/content/drive/MyDrive/detect/oai_essay6.txt', 'r') as file:\n",
        "    oai_essay6 = file.read()\n",
        "\n",
        "with open('/content/drive/MyDrive/detect/oai_essay7.txt', 'r') as file:\n",
        "    oai_essay7 = file.read()\n",
        "\n",
        "with open('/content/drive/MyDrive/detect/oai_essay8.txt', 'r') as file:\n",
        "    oai_essay8 = file.read()\n",
        "\n",
        "with open('/content/drive/MyDrive/detect/oai_essay9.txt', 'r') as file:\n",
        "    oai_essay9 = file.read()\n",
        "\n",
        "with open('/content/drive/MyDrive/detect/oai_essay10.txt', 'r') as file:\n",
        "    oai_essay10 = file.read()\n",
        "\n",
        "# put them all oai_essay in a list\n",
        "essay_list = [oai_essay1, oai_essay2, oai_essay3, oai_essay4, oai_essay5, oai_essay6, oai_essay7, oai_essay8, oai_essay9, oai_essay10]"
      ]
    },
    {
      "cell_type": "markdown",
      "metadata": {
        "id": "s96HIOcLuL9p"
      },
      "source": [
        "# Prompt Construction\n",
        "Attempt to reconstruct a prompt similar to what the student may have used when asking the AI to write the essay"
      ]
    },
    {
      "cell_type": "code",
      "execution_count": 6,
      "metadata": {
        "colab": {
          "base_uri": "https://localhost:8080/",
          "height": 196
        },
        "id": "_N4w3xNYuB9n",
        "outputId": "8bee89b2-6323-4c4a-aae9-a21cd7510730"
      },
      "outputs": [
        {
          "output_type": "execute_result",
          "data": {
            "text/plain": [
              "'Write an essay about Hedda Gabler by Henrik Ibsen that follows these requirements Fiction Analysis Essay:  Theme\\nAP Literature and Composition  (100 Points)\\n\\nText Options:\\nNative Son by Richard Wright\\nWuthering Heights by Emily Bronte\\nFrankenstein by Mary Shelley\\n“Babylon Revisited” by F. Scott Fitzgerald\\n“Hunters in the Snow” by Tobias Wolff\\n\\nPrompt:\\nAuthors become famous for their ability to use complex literary devices to reveal a criticism, reflect a social or political issue, and/or discuss the complexity and truth of human nature into the meaning of their work as a whole.  Simply stated, to understand theme is to understand an author’s work.\\n\\nIn a fully-developed composition (no longer than four pages in MLA format), analyze several complex themes (approximately 3; better to go deep) in a work of your choice that we have read this semester. Make sure you take a unique approach while analyzing this piece, incorporate and properly use textual evidence, and fully support a clearly-defined original thesis.  Your essay should clearly reveal the writer’s purpose and overarching goals in writing this work. \\n\\nPlease note:  Themes stated as motifs will not be accepted and result in a failing grade (No credit example:  One theme in Wuthering Heights is all-consuming passion.)  I suggest you review your theme notes, half sheet, sample themes we have written in class, and chapter 4 in Perrine’s before you begin.  Part of this is proving you are competent at constructing proper theme statements.  When in doubt, have your teacher look over them.  \\n\\nSome questions to ask yourself:\\nWhat universal truths is the writer trying to portray to the reader?  What does the text make one ponder and perhaps think differently about after reading it?  \\nBy what means does this theme become revealed?  What were key plot events, characters, conflicts, aspects of narration, etc. that illustrated each theme? \\nHow can I best defend my theme statements/thesis?  What is the best evidence in the text to quote and paraphrase to support my ideas?\\nWhat outside research agrees with my interpretations?  Is it from a university or other academic organization worthy of a college paper? (No e-notes, Spark Notes, Cliff notes, AI, Wikipedia, LitCharts, etc.) \\nWhat can I include from Foster’s book that is related to my theme statements?  How does the genre, time period, author’s background, and other external factors influence the themes of this text as well?   \\n\\n\\nMisc. Requirements:\\n-Approx. 3-4 pages in length, double-spaced, 12 point, plain font in MLA format\\n-hard copy and electronic copy on Turnitin submitted on due date (day of midterm)\\n-separate Works Cited page with a minimum of four credible sources in MLA format:\\n\\t-Foster’s book, the piece itself, (2) outside research:  academic journals only\\n-proper in-text citations of the researched information and quotes from the literary work\\n-ABSOLUTELY NO PLAGIARISM or use of AI or you will fail this assignment and receive a discipline referral.\\n'"
            ],
            "application/vnd.google.colaboratory.intrinsic+json": {
              "type": "string"
            }
          },
          "metadata": {},
          "execution_count": 6
        }
      ],
      "source": [
        "# put the title of the media here (book, play, poem, etc)\n",
        "media_title = \"Hedda Gabler\"\n",
        "author = \"Henrik Ibsen\"\n",
        "\n",
        "prompt = f\"Write an essay about {media_title} by {author} that follows these requirements {assignment_text}\"\n",
        "\n",
        "prompt"
      ]
    },
    {
      "cell_type": "code",
      "source": [
        "# Generate 20-50 essays from all of the model providers (openai, anthropic, google), using all of their available models (ex: gpt-3.5 for openai)\n",
        "# perturb prompt slightly using an openai model to get different essays\n",
        "# create a pinecone vectordb and store the embedding there for later use"
      ],
      "metadata": {
        "id": "w3PfTcC3_3kn"
      },
      "execution_count": 22,
      "outputs": []
    },
    {
      "cell_type": "code",
      "source": [
        "# load models\n",
        "from transformers import GPT2LMHeadModel, GPT2TokenizerFast\n",
        "\n",
        "gpt2_model = GPT2LMHeadModel.from_pretrained('gpt2').to('cuda')\n",
        "gpt2_tokenizer = GPT2TokenizerFast.from_pretrained('gpt2')"
      ],
      "metadata": {
        "id": "jgPbVFcYV6Sb"
      },
      "execution_count": 23,
      "outputs": []
    },
    {
      "cell_type": "code",
      "source": [
        "# load spacy for full scope\n",
        "nlp = spacy.load(\"en_core_web_sm\")"
      ],
      "metadata": {
        "id": "-1NMou_3w-x4"
      },
      "execution_count": 8,
      "outputs": []
    },
    {
      "cell_type": "code",
      "execution_count": 9,
      "metadata": {
        "id": "UiHvSsDDfFS2"
      },
      "outputs": [],
      "source": [
        "import numpy as np\n",
        "import torch\n",
        "import faiss\n",
        "from transformers import AutoTokenizer, AutoModel\n",
        "import spacy\n",
        "from typing import List, Tuple, Dict\n",
        "from collections import defaultdict\n",
        "from dataclasses import dataclass\n",
        "from scipy.spatial.distance import cosine\n",
        "from tqdm import tqdm\n",
        "from collections import defaultdict\n",
        "\n",
        "\n",
        "@dataclass\n",
        "class TextEmbedding:\n",
        "    text: str\n",
        "    embedding: np.ndarray\n",
        "    metadata: Dict = None\n",
        "\n",
        "class FAISSTextAnalyzer:\n",
        "    def __init__(self, model_name: str = \"sentence-transformers/all-mpnet-base-v2\"):\n",
        "        self.device = torch.device(\"cuda\" if torch.cuda.is_available() else \"cpu\")\n",
        "        self.tokenizer = AutoTokenizer.from_pretrained(model_name)\n",
        "        print(\"Loading transformer model...\")\n",
        "        self.model = AutoModel.from_pretrained(model_name).to(self.device)\n",
        "        print(\"Loading spaCy...\")\n",
        "        self.nlp = spacy.load(\"en_core_web_sm\")\n",
        "\n",
        "        # Initialize FAISS index\n",
        "        self.embedding_dim = self.model.config.hidden_size\n",
        "        self.index = faiss.IndexFlatL2(self.embedding_dim)\n",
        "\n",
        "        # Enable GPU if available\n",
        "        if torch.cuda.is_available():\n",
        "            self.res = faiss.StandardGpuResources()\n",
        "            self.index = faiss.index_cpu_to_gpu(self.res, 0, self.index)\n",
        "\n",
        "        # Store text embeddings for retrieval\n",
        "        self.stored_embeddings: List[TextEmbedding] = []\n",
        "\n",
        "    def get_embedding(self, text: str) -> np.ndarray:\n",
        "        \"\"\"Generate embedding for a single text.\"\"\"\n",
        "        inputs = self.tokenizer(text, return_tensors=\"pt\", padding=True, truncation=True, max_length=512)\n",
        "        inputs = {k: v.to(self.device) for k, v in inputs.items()}\n",
        "\n",
        "        with torch.no_grad():\n",
        "            outputs = self.model(**inputs)\n",
        "            embedding = outputs.last_hidden_state.mean(dim=1)\n",
        "\n",
        "        return embedding.cpu().numpy()\n",
        "\n",
        "    def add_texts(self, texts: List[str], metadata: List[Dict] = None):\n",
        "        \"\"\"Add multiple texts to the FAISS index.\"\"\"\n",
        "        if metadata is None:\n",
        "            metadata = [None] * len(texts)\n",
        "\n",
        "        embeddings = []\n",
        "        for text, meta in zip(texts, metadata):\n",
        "            embedding = self.get_embedding(text)\n",
        "            self.stored_embeddings.append(TextEmbedding(text=text, embedding=embedding, metadata=meta))\n",
        "            embeddings.append(embedding)\n",
        "\n",
        "        embeddings = np.vstack(embeddings)\n",
        "        self.index.add(embeddings)\n",
        "\n",
        "    def search(self, query_text: str, k: int = 5) -> List[Tuple[float, TextEmbedding]]:\n",
        "        \"\"\"Search for similar texts and return distances and text objects.\"\"\"\n",
        "        query_emb = self.get_embedding(query_text)\n",
        "        D, I = self.index.search(query_emb, k)\n",
        "\n",
        "        results = []\n",
        "        for dist, idx in zip(D[0], I[0]):\n",
        "            results.append((dist, self.stored_embeddings[idx]))\n",
        "\n",
        "        return results\n",
        "\n",
        "    # def syntactic_features(self, text: str) -> Dict[str, float]:\n",
        "    #     \"\"\"Extract syntactic features using spaCy.\"\"\"\n",
        "    #     doc = self.nlp(text)\n",
        "    #     features = defaultdict(int)\n",
        "\n",
        "    #     # Analyze sentence structure\n",
        "    #     for sent in doc.sents:\n",
        "    #         features['sent_length'] += len(sent)\n",
        "    #         features['dep_tree_depth'] += self._get_dep_tree_depth(sent.root)\n",
        "\n",
        "    #     # POS tag distribution\n",
        "    #     # for token in doc:\n",
        "    #         # features[f'pos_{token.pos_}'] += 1\n",
        "\n",
        "    #     # Get all possible POS tags\n",
        "    #     all_pos_tags = set(self.nlp.get_pipe(\"tagger\").labels)\n",
        "\n",
        "    #     # Ensure all POS tags are present in the feature dictionary,\n",
        "    #     # even if they don't occur in the current text\n",
        "    #     for pos_tag in all_pos_tags:\n",
        "    #         features[f'pos_{pos_tag}'] += 0  # Add with count 0 if not present\n",
        "    def syntactic_features(self, text: str) -> Dict[str, float]:\n",
        "        doc = self.nlp(text)\n",
        "        features = defaultdict(int)\n",
        "\n",
        "        # analyze sentence structure\n",
        "        for sent in doc.sents:\n",
        "            features['sent_length'] += len(sent)\n",
        "            features['dep_tree_depth'] += self._get_dep_tree_depth(sent.root)\n",
        "\n",
        "        # increment POS tags\n",
        "        for token in doc:\n",
        "            features[f'pos_{token.pos_}'] += 1\n",
        "\n",
        "        # ensure every possible POS label is present\n",
        "        all_labels = set(self.nlp.get_pipe(\"tagger\").labels)\n",
        "        for label in all_labels:\n",
        "            key = f\"pos_{label}\"\n",
        "            if key not in features:\n",
        "                features[key] = 0\n",
        "\n",
        "        total_tokens = len(doc)\n",
        "        if total_tokens > 0:\n",
        "            for k in features:\n",
        "                features[k] /= total_tokens\n",
        "\n",
        "        return dict(features)\n",
        "\n",
        "    def _get_dep_tree_depth(self, root) -> int:\n",
        "        \"\"\"Calculate dependency tree depth recursively.\"\"\"\n",
        "        if not list(root.children):\n",
        "            return 0\n",
        "        return 1 + max(self._get_dep_tree_depth(child) for child in root.children)\n",
        "\n",
        "    def compare_texts(self, original: str, generated_samples: List[str]) -> Dict[str, List[float]]:\n",
        "        \"\"\"Compare original text against multiple generated samples using FAISS.\"\"\"\n",
        "        results = {\n",
        "            'semantic_similarity': [],\n",
        "            'syntactic_similarity': [],\n",
        "            'combined_score': []\n",
        "        }\n",
        "\n",
        "        # Get features for original text\n",
        "        orig_embedding = self.get_embedding(original)\n",
        "        orig_syntactic = self.syntactic_features(original)\n",
        "\n",
        "        # Add generated samples to FAISS index\n",
        "        self.index.reset()  # Clear existing index\n",
        "        sample_embeddings = []\n",
        "        for sample in generated_samples:\n",
        "            emb = self.get_embedding(sample)\n",
        "            sample_embeddings.append(emb)\n",
        "        sample_embeddings = np.vstack(sample_embeddings)\n",
        "        self.index.add(sample_embeddings)\n",
        "\n",
        "        # Get nearest neighbors for original text\n",
        "        D, I = self.index.search(orig_embedding, len(generated_samples))\n",
        "\n",
        "        for i, sample in enumerate(generated_samples):\n",
        "            # Semantic similarity from FAISS distance\n",
        "            semantic_sim = 1.0 / (1.0 + D[0][i])  # Convert distance to similarity score\n",
        "\n",
        "            # Syntactic similarity using feature vectors\n",
        "            sample_syntactic = self.syntactic_features(sample)\n",
        "            syntactic_sim = 1.0 - cosine(\n",
        "                np.array(list(orig_syntactic.values())),\n",
        "                np.array(list(sample_syntactic.values()))\n",
        "            )\n",
        "\n",
        "            # Combined score (weighted average)\n",
        "            combined = 0.6 * semantic_sim + 0.4 * syntactic_sim\n",
        "\n",
        "            results['semantic_similarity'].append(semantic_sim)\n",
        "            results['syntactic_similarity'].append(syntactic_sim)\n",
        "            results['combined_score'].append(combined)\n",
        "\n",
        "        return results\n",
        "\n",
        "    def batch_compare(self, texts: List[str], batch_size: int = 32) -> np.ndarray:\n",
        "        \"\"\"Efficiently compare multiple texts in batches.\"\"\"\n",
        "        n = len(texts)\n",
        "        similarity_matrix = np.zeros((n, n))\n",
        "\n",
        "        # Process in batches\n",
        "        for i in range(0, n, batch_size):\n",
        "            batch_texts = texts[i:i + batch_size]\n",
        "            batch_embeddings = []\n",
        "\n",
        "            for text in batch_texts:\n",
        "                emb = self.get_embedding(text)\n",
        "                batch_embeddings.append(emb)\n",
        "\n",
        "            batch_embeddings = np.vstack(batch_embeddings)\n",
        "\n",
        "            # Compare batch against all texts\n",
        "            D, _ = self.index.search(batch_embeddings, n)\n",
        "            similarity_matrix[i:i + len(batch_texts)] = 1.0 / (1.0 + D)\n",
        "\n",
        "        return similarity_matrix"
      ]
    },
    {
      "cell_type": "code",
      "execution_count": 10,
      "metadata": {
        "id": "GCGe2f8u8fmL",
        "colab": {
          "base_uri": "https://localhost:8080/"
        },
        "outputId": "c5199765-c497-47df-945b-b3593dff2abd"
      },
      "outputs": [
        {
          "output_type": "stream",
          "name": "stdout",
          "text": [
            "Loading transformer model...\n",
            "Loading spaCy...\n"
          ]
        },
        {
          "output_type": "stream",
          "name": "stderr",
          "text": [
            "/usr/local/lib/python3.10/dist-packages/spacy/util.py:1740: UserWarning: [W111] Jupyter notebook detected: if using `prefer_gpu()` or `require_gpu()`, include it in the same cell right before `spacy.load()` to ensure that the model is loaded on the correct device. More information: http://spacy.io/usage/v3#jupyter-notebook-gpu\n",
            "  warnings.warn(Warnings.W111)\n"
          ]
        }
      ],
      "source": [
        "# create an embedding of the model outputs\n",
        "# Initialize FAISS analyzer\n",
        "faiss_analyzer = FAISSTextAnalyzer()\n",
        "\n",
        "# Create embeddings for all generated essays\n",
        "embeddings = []\n",
        "for essay in essay_list:\n",
        "    embedding = faiss_analyzer.get_embedding(essay)\n",
        "    embeddings.append(embedding)\n",
        "\n",
        "# Stack embeddings into matrix\n",
        "essay_embeddings = np.vstack(embeddings)\n",
        "\n",
        "# Add essays to FAISS index for similarity search\n",
        "faiss_analyzer.index.reset()\n",
        "faiss_analyzer.add_texts(essay_list)\n",
        "\n",
        "# Get similarity matrix for all essays\n",
        "similarity_matrix = faiss_analyzer.batch_compare(essay_list)\n"
      ]
    },
    {
      "cell_type": "code",
      "execution_count": 11,
      "metadata": {
        "id": "Ox_ev0_q8mjr",
        "colab": {
          "base_uri": "https://localhost:8080/",
          "height": 942
        },
        "outputId": "6a1322f5-a49a-4661-a0e5-d0453795c0dd"
      },
      "outputs": [
        {
          "output_type": "display_data",
          "data": {
            "text/plain": [
              "<Figure size 1000x1000 with 2 Axes>"
            ],
            "image/png": "[encoded data removed]"
          },
          "metadata": {}
        }
      ],
      "source": [
        "# plot the embedding\n",
        "# Reduce dimensionality to 3D using PCA\n",
        "from sklearn.decomposition import PCA\n",
        "import matplotlib.pyplot as plt # Import matplotlib.pyplot\n",
        "from mpl_toolkits.mplot3d import Axes3D\n",
        "\n",
        "pca = PCA(n_components=3)\n",
        "embeddings_3d = pca.fit_transform(essay_embeddings)\n",
        "\n",
        "# Create 3D scatter plot\n",
        "fig = plt.figure(figsize=(10, 10))\n",
        "ax = fig.add_subplot(111, projection='3d')\n",
        "\n",
        "# Plot points\n",
        "scatter = ax.scatter(embeddings_3d[:, 0],\n",
        "                    embeddings_3d[:, 1],\n",
        "                    embeddings_3d[:, 2],\n",
        "                    c=range(len(embeddings_3d)), # color by index\n",
        "                    cmap='viridis')\n",
        "\n",
        "# Add labels and title\n",
        "ax.set_xlabel('PC1')\n",
        "ax.set_ylabel('PC2')\n",
        "ax.set_zlabel('PC3')\n",
        "ax.set_title('3D PCA of Essay Embeddings')\n",
        "\n",
        "# Add colorbar\n",
        "plt.colorbar(scatter, label='Essay Index')\n",
        "\n",
        "plt.tight_layout()\n",
        "plt.show()\n"
      ]
    },
    {
      "cell_type": "markdown",
      "metadata": {
        "id": "H6o2z51LVJRF"
      },
      "source": [
        "# Semantic Similarity Analysis\n",
        "\n",
        "Semantic similarity measures how close two texts are in terms of their meaning and content by comparing their vector embeddings in high-dimensional space. Key aspects:\n",
        "\n",
        "- Uses neural language models to create dense vector representations\n",
        "- Captures deeper meaning beyond surface-level word matching\n",
        "- Accounts for synonyms, paraphrasing, and concept relationships\n",
        "\n",
        "This helps detect AI-generated essays because:\n",
        "1. AI models often reuse similar patterns and phrasings from training data\n",
        "2. Multiple AI-generated essays on the same topic may cluster together\n",
        "3. Human writing shows more semantic diversity and originality\n",
        "\n",
        "Interpreting the scores:\n",
        "- Scores range from 0 (completely different) to 1 (identical meaning)\n",
        "- Scores > 0.85 suggest suspiciously similar content\n",
        "- Natural human writing typically shows scores of 0.3-0.7 when compared\n",
        "- Look for clusters of essays with unusually high mutual similarity\n"
      ]
    },
    {
      "cell_type": "code",
      "execution_count": 12,
      "metadata": {
        "id": "M-1dVmqA8wp1",
        "colab": {
          "base_uri": "https://localhost:8080/",
          "height": 365
        },
        "outputId": "5de22ad0-354e-42e8-c6b6-d1cab4c9ce37"
      },
      "outputs": [
        {
          "output_type": "error",
          "ename": "ValueError",
          "evalue": "shapes (68,) and (67,) not aligned: 68 (dim 0) != 67 (dim 0)",
          "traceback": [
            "\u001b[0;31m---------------------------------------------------------------------------\u001b[0m",
            "\u001b[0;31mValueError\u001b[0m                                Traceback (most recent call last)",
            "\u001b[0;32m<ipython-input-12-a438d12d3ae0>\u001b[0m in \u001b[0;36m<cell line: 4>\u001b[0;34m()\u001b[0m\n\u001b[1;32m      3\u001b[0m \u001b[0msemantic_scores\u001b[0m \u001b[0;34m=\u001b[0m \u001b[0;34m[\u001b[0m\u001b[0;34m]\u001b[0m\u001b[0;34m\u001b[0m\u001b[0;34m\u001b[0m\u001b[0m\n\u001b[1;32m      4\u001b[0m \u001b[0;32mfor\u001b[0m \u001b[0mi\u001b[0m\u001b[0;34m,\u001b[0m \u001b[0messay\u001b[0m \u001b[0;32min\u001b[0m \u001b[0menumerate\u001b[0m\u001b[0;34m(\u001b[0m\u001b[0messay_list\u001b[0m\u001b[0;34m[\u001b[0m\u001b[0;36m1\u001b[0m\u001b[0;34m:\u001b[0m\u001b[0;34m]\u001b[0m\u001b[0;34m)\u001b[0m\u001b[0;34m:\u001b[0m  \u001b[0;31m# Compare against first essay\u001b[0m\u001b[0;34m\u001b[0m\u001b[0;34m\u001b[0m\u001b[0m\n\u001b[0;32m----> 5\u001b[0;31m     \u001b[0mresults\u001b[0m \u001b[0;34m=\u001b[0m \u001b[0mfaiss_analyzer\u001b[0m\u001b[0;34m.\u001b[0m\u001b[0mcompare_texts\u001b[0m\u001b[0;34m(\u001b[0m\u001b[0mstudent_essay\u001b[0m\u001b[0;34m,\u001b[0m \u001b[0;34m[\u001b[0m\u001b[0messay\u001b[0m\u001b[0;34m]\u001b[0m\u001b[0;34m)\u001b[0m\u001b[0;34m\u001b[0m\u001b[0;34m\u001b[0m\u001b[0m\n\u001b[0m\u001b[1;32m      6\u001b[0m     \u001b[0msemantic_scores\u001b[0m\u001b[0;34m.\u001b[0m\u001b[0mappend\u001b[0m\u001b[0;34m(\u001b[0m\u001b[0mresults\u001b[0m\u001b[0;34m[\u001b[0m\u001b[0;34m'semantic_similarity'\u001b[0m\u001b[0;34m]\u001b[0m\u001b[0;34m[\u001b[0m\u001b[0;36m0\u001b[0m\u001b[0;34m]\u001b[0m\u001b[0;34m)\u001b[0m\u001b[0;34m\u001b[0m\u001b[0;34m\u001b[0m\u001b[0m\n\u001b[1;32m      7\u001b[0m \u001b[0;34m\u001b[0m\u001b[0m\n",
            "\u001b[0;32m<ipython-input-9-39b9a32875db>\u001b[0m in \u001b[0;36mcompare_texts\u001b[0;34m(self, original, generated_samples)\u001b[0m\n\u001b[1;32m    159\u001b[0m             \u001b[0;31m# Syntactic similarity using feature vectors\u001b[0m\u001b[0;34m\u001b[0m\u001b[0;34m\u001b[0m\u001b[0m\n\u001b[1;32m    160\u001b[0m             \u001b[0msample_syntactic\u001b[0m \u001b[0;34m=\u001b[0m \u001b[0mself\u001b[0m\u001b[0;34m.\u001b[0m\u001b[0msyntactic_features\u001b[0m\u001b[0;34m(\u001b[0m\u001b[0msample\u001b[0m\u001b[0;34m)\u001b[0m\u001b[0;34m\u001b[0m\u001b[0;34m\u001b[0m\u001b[0m\n\u001b[0;32m--> 161\u001b[0;31m             syntactic_sim = 1.0 - cosine(\n\u001b[0m\u001b[1;32m    162\u001b[0m                 \u001b[0mnp\u001b[0m\u001b[0;34m.\u001b[0m\u001b[0marray\u001b[0m\u001b[0;34m(\u001b[0m\u001b[0mlist\u001b[0m\u001b[0;34m(\u001b[0m\u001b[0morig_syntactic\u001b[0m\u001b[0;34m.\u001b[0m\u001b[0mvalues\u001b[0m\u001b[0;34m(\u001b[0m\u001b[0;34m)\u001b[0m\u001b[0;34m)\u001b[0m\u001b[0;34m)\u001b[0m\u001b[0;34m,\u001b[0m\u001b[0;34m\u001b[0m\u001b[0;34m\u001b[0m\u001b[0m\n\u001b[1;32m    163\u001b[0m                 \u001b[0mnp\u001b[0m\u001b[0;34m.\u001b[0m\u001b[0marray\u001b[0m\u001b[0;34m(\u001b[0m\u001b[0mlist\u001b[0m\u001b[0;34m(\u001b[0m\u001b[0msample_syntactic\u001b[0m\u001b[0;34m.\u001b[0m\u001b[0mvalues\u001b[0m\u001b[0;34m(\u001b[0m\u001b[0;34m)\u001b[0m\u001b[0;34m)\u001b[0m\u001b[0;34m)\u001b[0m\u001b[0;34m\u001b[0m\u001b[0;34m\u001b[0m\u001b[0m\n",
            "\u001b[0;32m/usr/local/lib/python3.10/dist-packages/scipy/spatial/distance.py\u001b[0m in \u001b[0;36mcosine\u001b[0;34m(u, v, w)\u001b[0m\n\u001b[1;32m    692\u001b[0m     \u001b[0;31m# cosine distance is also referred to as 'uncentered correlation',\u001b[0m\u001b[0;34m\u001b[0m\u001b[0;34m\u001b[0m\u001b[0m\n\u001b[1;32m    693\u001b[0m     \u001b[0;31m#   or 'reflective correlation'\u001b[0m\u001b[0;34m\u001b[0m\u001b[0;34m\u001b[0m\u001b[0m\n\u001b[0;32m--> 694\u001b[0;31m     \u001b[0;32mreturn\u001b[0m \u001b[0mcorrelation\u001b[0m\u001b[0;34m(\u001b[0m\u001b[0mu\u001b[0m\u001b[0;34m,\u001b[0m \u001b[0mv\u001b[0m\u001b[0;34m,\u001b[0m \u001b[0mw\u001b[0m\u001b[0;34m=\u001b[0m\u001b[0mw\u001b[0m\u001b[0;34m,\u001b[0m \u001b[0mcentered\u001b[0m\u001b[0;34m=\u001b[0m\u001b[0;32mFalse\u001b[0m\u001b[0;34m)\u001b[0m\u001b[0;34m\u001b[0m\u001b[0;34m\u001b[0m\u001b[0m\n\u001b[0m\u001b[1;32m    695\u001b[0m \u001b[0;34m\u001b[0m\u001b[0m\n\u001b[1;32m    696\u001b[0m \u001b[0;34m\u001b[0m\u001b[0m\n",
            "\u001b[0;32m/usr/local/lib/python3.10/dist-packages/scipy/spatial/distance.py\u001b[0m in \u001b[0;36mcorrelation\u001b[0;34m(u, v, w, centered)\u001b[0m\n\u001b[1;32m    642\u001b[0m     \u001b[0;32melse\u001b[0m\u001b[0;34m:\u001b[0m\u001b[0;34m\u001b[0m\u001b[0;34m\u001b[0m\u001b[0m\n\u001b[1;32m    643\u001b[0m         \u001b[0mvw\u001b[0m\u001b[0;34m,\u001b[0m \u001b[0muw\u001b[0m \u001b[0;34m=\u001b[0m \u001b[0mv\u001b[0m\u001b[0;34m,\u001b[0m \u001b[0mu\u001b[0m\u001b[0;34m\u001b[0m\u001b[0;34m\u001b[0m\u001b[0m\n\u001b[0;32m--> 644\u001b[0;31m     \u001b[0muv\u001b[0m \u001b[0;34m=\u001b[0m \u001b[0mnp\u001b[0m\u001b[0;34m.\u001b[0m\u001b[0mdot\u001b[0m\u001b[0;34m(\u001b[0m\u001b[0mu\u001b[0m\u001b[0;34m,\u001b[0m \u001b[0mvw\u001b[0m\u001b[0;34m)\u001b[0m\u001b[0;34m\u001b[0m\u001b[0;34m\u001b[0m\u001b[0m\n\u001b[0m\u001b[1;32m    645\u001b[0m     \u001b[0muu\u001b[0m \u001b[0;34m=\u001b[0m \u001b[0mnp\u001b[0m\u001b[0;34m.\u001b[0m\u001b[0mdot\u001b[0m\u001b[0;34m(\u001b[0m\u001b[0mu\u001b[0m\u001b[0;34m,\u001b[0m \u001b[0muw\u001b[0m\u001b[0;34m)\u001b[0m\u001b[0;34m\u001b[0m\u001b[0;34m\u001b[0m\u001b[0m\n\u001b[1;32m    646\u001b[0m     \u001b[0mvv\u001b[0m \u001b[0;34m=\u001b[0m \u001b[0mnp\u001b[0m\u001b[0;34m.\u001b[0m\u001b[0mdot\u001b[0m\u001b[0;34m(\u001b[0m\u001b[0mv\u001b[0m\u001b[0;34m,\u001b[0m \u001b[0mvw\u001b[0m\u001b[0;34m)\u001b[0m\u001b[0;34m\u001b[0m\u001b[0;34m\u001b[0m\u001b[0m\n",
            "\u001b[0;31mValueError\u001b[0m: shapes (68,) and (67,) not aligned: 68 (dim 0) != 67 (dim 0)"
          ]
        }
      ],
      "source": [
        "# compare semantic similarity\n",
        "# Get semantic similarity scores between essays using FAISS analyzer\n",
        "semantic_scores = []\n",
        "for i, essay in enumerate(essay_list[1:]):  # Compare against first essay\n",
        "    results = faiss_analyzer.compare_texts(student_essay, [essay])\n",
        "    semantic_scores.append(results['semantic_similarity'][0])\n",
        "\n",
        "print(f\"Semantic similarity scores (compared to original essay):\")\n",
        "for i, score in enumerate(semantic_scores):\n",
        "    print(f\"Essay {i+1}: {score:.3f}\")\n"
      ]
    },
    {
      "cell_type": "code",
      "source": [
        "# plotting semantic similarity\n",
        "# a heatmap of similarity scores for pairwise comparisons.\n",
        "# PCA plot of the embedding with the student essay in red, and the ai generated in blue, and something that highlights or shows the computed similarity in PCA"
      ],
      "metadata": {
        "id": "OrLR3iaW5tD_"
      },
      "execution_count": null,
      "outputs": []
    },
    {
      "cell_type": "code",
      "source": [],
      "metadata": {
        "id": "s4LgTbZZ5v4u"
      },
      "execution_count": null,
      "outputs": []
    },
    {
      "cell_type": "markdown",
      "metadata": {
        "id": "qXqEwcE2VJRG"
      },
      "source": [
        "# Syntactical Similarity Analysis\n",
        "\n",
        "Syntactical similarity measures how similar two texts are in terms of their grammatical structure and language patterns, including:\n",
        "\n",
        "- Part-of-speech tag distributions\n",
        "- Dependency tree depths and patterns\n",
        "- Sentence structure complexity\n",
        "- Word order and transitions\n",
        "\n",
        "This is useful for AI detection because:\n",
        "1. AI models often generate text with more consistent/predictable syntactic patterns\n",
        "2. Human writing tends to have more natural variation in sentence structure\n",
        "3. Very high syntactic similarity between essays may indicate AI generation\n",
        "\n",
        "Interpreting the scores:\n",
        "- Scores range from 0 (completely different) to 1 (identical)\n",
        "- Scores > 0.8 suggest suspiciously similar syntax patterns\n",
        "- Natural human writing typically shows scores of 0.4-0.7 when compared\n",
        "- Look for outliers with unusually high similarity to other essays\n"
      ]
    },
    {
      "cell_type": "code",
      "execution_count": 13,
      "metadata": {
        "id": "AukKMlbr-bAU",
        "colab": {
          "base_uri": "https://localhost:8080/",
          "height": 365
        },
        "outputId": "d04dfea0-844d-413f-df0d-751d5f8f0b1d"
      },
      "outputs": [
        {
          "output_type": "error",
          "ename": "ValueError",
          "evalue": "shapes (68,) and (67,) not aligned: 68 (dim 0) != 67 (dim 0)",
          "traceback": [
            "\u001b[0;31m---------------------------------------------------------------------------\u001b[0m",
            "\u001b[0;31mValueError\u001b[0m                                Traceback (most recent call last)",
            "\u001b[0;32m<ipython-input-13-10776371f5fd>\u001b[0m in \u001b[0;36m<cell line: 4>\u001b[0;34m()\u001b[0m\n\u001b[1;32m      3\u001b[0m \u001b[0msyntactic_scores\u001b[0m \u001b[0;34m=\u001b[0m \u001b[0;34m[\u001b[0m\u001b[0;34m]\u001b[0m\u001b[0;34m\u001b[0m\u001b[0;34m\u001b[0m\u001b[0m\n\u001b[1;32m      4\u001b[0m \u001b[0;32mfor\u001b[0m \u001b[0mi\u001b[0m\u001b[0;34m,\u001b[0m \u001b[0messay\u001b[0m \u001b[0;32min\u001b[0m \u001b[0menumerate\u001b[0m\u001b[0;34m(\u001b[0m\u001b[0messay_list\u001b[0m\u001b[0;34m[\u001b[0m\u001b[0;36m1\u001b[0m\u001b[0;34m:\u001b[0m\u001b[0;34m]\u001b[0m\u001b[0;34m)\u001b[0m\u001b[0;34m:\u001b[0m  \u001b[0;31m# Compare against student essay\u001b[0m\u001b[0;34m\u001b[0m\u001b[0;34m\u001b[0m\u001b[0m\n\u001b[0;32m----> 5\u001b[0;31m     \u001b[0mresults\u001b[0m \u001b[0;34m=\u001b[0m \u001b[0mfaiss_analyzer\u001b[0m\u001b[0;34m.\u001b[0m\u001b[0mcompare_texts\u001b[0m\u001b[0;34m(\u001b[0m\u001b[0mstudent_essay\u001b[0m\u001b[0;34m,\u001b[0m \u001b[0;34m[\u001b[0m\u001b[0messay\u001b[0m\u001b[0;34m]\u001b[0m\u001b[0;34m)\u001b[0m\u001b[0;34m\u001b[0m\u001b[0;34m\u001b[0m\u001b[0m\n\u001b[0m\u001b[1;32m      6\u001b[0m     \u001b[0msyntactic_scores\u001b[0m\u001b[0;34m.\u001b[0m\u001b[0mappend\u001b[0m\u001b[0;34m(\u001b[0m\u001b[0mresults\u001b[0m\u001b[0;34m[\u001b[0m\u001b[0;34m'syntactic_similarity'\u001b[0m\u001b[0;34m]\u001b[0m\u001b[0;34m[\u001b[0m\u001b[0;36m0\u001b[0m\u001b[0;34m]\u001b[0m\u001b[0;34m)\u001b[0m\u001b[0;34m\u001b[0m\u001b[0;34m\u001b[0m\u001b[0m\n\u001b[1;32m      7\u001b[0m \u001b[0;34m\u001b[0m\u001b[0m\n",
            "\u001b[0;32m<ipython-input-9-39b9a32875db>\u001b[0m in \u001b[0;36mcompare_texts\u001b[0;34m(self, original, generated_samples)\u001b[0m\n\u001b[1;32m    159\u001b[0m             \u001b[0;31m# Syntactic similarity using feature vectors\u001b[0m\u001b[0;34m\u001b[0m\u001b[0;34m\u001b[0m\u001b[0m\n\u001b[1;32m    160\u001b[0m             \u001b[0msample_syntactic\u001b[0m \u001b[0;34m=\u001b[0m \u001b[0mself\u001b[0m\u001b[0;34m.\u001b[0m\u001b[0msyntactic_features\u001b[0m\u001b[0;34m(\u001b[0m\u001b[0msample\u001b[0m\u001b[0;34m)\u001b[0m\u001b[0;34m\u001b[0m\u001b[0;34m\u001b[0m\u001b[0m\n\u001b[0;32m--> 161\u001b[0;31m             syntactic_sim = 1.0 - cosine(\n\u001b[0m\u001b[1;32m    162\u001b[0m                 \u001b[0mnp\u001b[0m\u001b[0;34m.\u001b[0m\u001b[0marray\u001b[0m\u001b[0;34m(\u001b[0m\u001b[0mlist\u001b[0m\u001b[0;34m(\u001b[0m\u001b[0morig_syntactic\u001b[0m\u001b[0;34m.\u001b[0m\u001b[0mvalues\u001b[0m\u001b[0;34m(\u001b[0m\u001b[0;34m)\u001b[0m\u001b[0;34m)\u001b[0m\u001b[0;34m)\u001b[0m\u001b[0;34m,\u001b[0m\u001b[0;34m\u001b[0m\u001b[0;34m\u001b[0m\u001b[0m\n\u001b[1;32m    163\u001b[0m                 \u001b[0mnp\u001b[0m\u001b[0;34m.\u001b[0m\u001b[0marray\u001b[0m\u001b[0;34m(\u001b[0m\u001b[0mlist\u001b[0m\u001b[0;34m(\u001b[0m\u001b[0msample_syntactic\u001b[0m\u001b[0;34m.\u001b[0m\u001b[0mvalues\u001b[0m\u001b[0;34m(\u001b[0m\u001b[0;34m)\u001b[0m\u001b[0;34m)\u001b[0m\u001b[0;34m)\u001b[0m\u001b[0;34m\u001b[0m\u001b[0;34m\u001b[0m\u001b[0m\n",
            "\u001b[0;32m/usr/local/lib/python3.10/dist-packages/scipy/spatial/distance.py\u001b[0m in \u001b[0;36mcosine\u001b[0;34m(u, v, w)\u001b[0m\n\u001b[1;32m    692\u001b[0m     \u001b[0;31m# cosine distance is also referred to as 'uncentered correlation',\u001b[0m\u001b[0;34m\u001b[0m\u001b[0;34m\u001b[0m\u001b[0m\n\u001b[1;32m    693\u001b[0m     \u001b[0;31m#   or 'reflective correlation'\u001b[0m\u001b[0;34m\u001b[0m\u001b[0;34m\u001b[0m\u001b[0m\n\u001b[0;32m--> 694\u001b[0;31m     \u001b[0;32mreturn\u001b[0m \u001b[0mcorrelation\u001b[0m\u001b[0;34m(\u001b[0m\u001b[0mu\u001b[0m\u001b[0;34m,\u001b[0m \u001b[0mv\u001b[0m\u001b[0;34m,\u001b[0m \u001b[0mw\u001b[0m\u001b[0;34m=\u001b[0m\u001b[0mw\u001b[0m\u001b[0;34m,\u001b[0m \u001b[0mcentered\u001b[0m\u001b[0;34m=\u001b[0m\u001b[0;32mFalse\u001b[0m\u001b[0;34m)\u001b[0m\u001b[0;34m\u001b[0m\u001b[0;34m\u001b[0m\u001b[0m\n\u001b[0m\u001b[1;32m    695\u001b[0m \u001b[0;34m\u001b[0m\u001b[0m\n\u001b[1;32m    696\u001b[0m \u001b[0;34m\u001b[0m\u001b[0m\n",
            "\u001b[0;32m/usr/local/lib/python3.10/dist-packages/scipy/spatial/distance.py\u001b[0m in \u001b[0;36mcorrelation\u001b[0;34m(u, v, w, centered)\u001b[0m\n\u001b[1;32m    642\u001b[0m     \u001b[0;32melse\u001b[0m\u001b[0;34m:\u001b[0m\u001b[0;34m\u001b[0m\u001b[0;34m\u001b[0m\u001b[0m\n\u001b[1;32m    643\u001b[0m         \u001b[0mvw\u001b[0m\u001b[0;34m,\u001b[0m \u001b[0muw\u001b[0m \u001b[0;34m=\u001b[0m \u001b[0mv\u001b[0m\u001b[0;34m,\u001b[0m \u001b[0mu\u001b[0m\u001b[0;34m\u001b[0m\u001b[0;34m\u001b[0m\u001b[0m\n\u001b[0;32m--> 644\u001b[0;31m     \u001b[0muv\u001b[0m \u001b[0;34m=\u001b[0m \u001b[0mnp\u001b[0m\u001b[0;34m.\u001b[0m\u001b[0mdot\u001b[0m\u001b[0;34m(\u001b[0m\u001b[0mu\u001b[0m\u001b[0;34m,\u001b[0m \u001b[0mvw\u001b[0m\u001b[0;34m)\u001b[0m\u001b[0;34m\u001b[0m\u001b[0;34m\u001b[0m\u001b[0m\n\u001b[0m\u001b[1;32m    645\u001b[0m     \u001b[0muu\u001b[0m \u001b[0;34m=\u001b[0m \u001b[0mnp\u001b[0m\u001b[0;34m.\u001b[0m\u001b[0mdot\u001b[0m\u001b[0;34m(\u001b[0m\u001b[0mu\u001b[0m\u001b[0;34m,\u001b[0m \u001b[0muw\u001b[0m\u001b[0;34m)\u001b[0m\u001b[0;34m\u001b[0m\u001b[0;34m\u001b[0m\u001b[0m\n\u001b[1;32m    646\u001b[0m     \u001b[0mvv\u001b[0m \u001b[0;34m=\u001b[0m \u001b[0mnp\u001b[0m\u001b[0;34m.\u001b[0m\u001b[0mdot\u001b[0m\u001b[0;34m(\u001b[0m\u001b[0mv\u001b[0m\u001b[0;34m,\u001b[0m \u001b[0mvw\u001b[0m\u001b[0;34m)\u001b[0m\u001b[0;34m\u001b[0m\u001b[0;34m\u001b[0m\u001b[0m\n",
            "\u001b[0;31mValueError\u001b[0m: shapes (68,) and (67,) not aligned: 68 (dim 0) != 67 (dim 0)"
          ]
        }
      ],
      "source": [
        "# compare syntactical similarity\n",
        "# Get syntactic similarity scores between essays using FAISS analyzer\n",
        "syntactic_scores = []\n",
        "for i, essay in enumerate(essay_list[1:]):  # Compare against student essay\n",
        "    results = faiss_analyzer.compare_texts(student_essay, [essay])\n",
        "    syntactic_scores.append(results['syntactic_similarity'][0])\n",
        "\n",
        "print(f\"Syntactic similarity scores (compared to original essay):\")\n",
        "for i, score in enumerate(syntactic_scores):\n",
        "    print(f\"Essay {i+1}: {score:.3f}\")\n",
        "\n",
        "# Plot semantic vs syntactic similarity\n",
        "plt.figure(figsize=(10, 6))\n",
        "plt.scatter(semantic_scores, syntactic_scores)\n",
        "plt.xlabel('Semantic Similarity')\n",
        "plt.ylabel('Syntactic Similarity')\n",
        "plt.title('Semantic vs Syntactic Similarity')\n",
        "\n",
        "# Add essay labels\n",
        "for i in range(len(semantic_scores)):\n",
        "    plt.annotate(f'Essay {i+1}', (semantic_scores[i], syntactic_scores[i]))\n",
        "\n",
        "plt.grid(True)\n",
        "plt.show()\n"
      ]
    },
    {
      "cell_type": "code",
      "source": [
        "# PCA plot of the embedding with the student essay in red, and the ai generated in blue, and something that highlights or shows the computed similarity in PCA"
      ],
      "metadata": {
        "id": "uF8DQ8As6Q9D"
      },
      "execution_count": null,
      "outputs": []
    },
    {
      "cell_type": "code",
      "source": [
        "# scatter plot comparing semantic vs. syntactic similarity of the student essay vs the ai-generated essays"
      ],
      "metadata": {
        "id": "SWoHpm-a54I5"
      },
      "execution_count": null,
      "outputs": []
    },
    {
      "cell_type": "markdown",
      "metadata": {
        "id": "8Klt-aHV_Kkf"
      },
      "source": [
        "# Statistical Methods\n",
        "\n",
        "### Word and Phrase Frequency Analysis\n",
        "\n",
        "Word and phrase frequency analysis examines how often specific words and combinations of words appear in text.\n",
        "This can help detect AI-generated content because:\n",
        "\n",
        "1. AI models often show distinctive patterns in word usage and repetition\n",
        "2. Humans tend to have more natural variation in word choice\n",
        "3. Certain phrases or n-grams may appear more frequently in AI text\n",
        "\n",
        "N-grams are contiguous sequences of n items (words/tokens) from a text:\n",
        "- Unigrams (n=1): Single words like \"the\", \"cat\", \"sat\"\n",
        "- Bigrams (n=2): Pairs of words like \"the cat\", \"cat sat\"\n",
        "- Trigrams (n=3): Three word sequences like \"the cat sat\"\n",
        "\n",
        "N-grams help analyze text patterns and transitions between words. AI models may\n",
        "show distinctive n-gram patterns compared to human writing.\n",
        "\n",
        "\n",
        "The analysis below looks at:\n",
        "- Individual word frequencies: Shows if vocabulary usage is too repetitive or unnatural\n",
        "- Bigram overlap: High overlap (>0.8) between essays suggests potential AI generation\n",
        "- Jensen-Shannon distance: Measures how similar the word distributions are\n",
        "  - Values closer to 0 indicate very similar distributions (potential AI)\n",
        "  - Values closer to 1 indicate more natural human variation\n",
        "\n",
        "When interpreting results, look for:\n",
        "- Unnaturally high similarity in word frequencies between essays\n",
        "- Repetitive phrases or formulaic language patterns\n",
        "- Word distribution patterns that are too \"clean\" or systematic\n"
      ]
    },
    {
      "cell_type": "code",
      "execution_count": 14,
      "metadata": {
        "id": "PQY7jBhA-zJg",
        "colab": {
          "base_uri": "https://localhost:8080/"
        },
        "outputId": "34faefda-cdc2-4581-8ea6-eeefae16d6cd"
      },
      "outputs": [
        {
          "output_type": "stream",
          "name": "stdout",
          "text": [
            "\n",
            "Essay 1 frequency comparison:\n",
            "\n",
            "Top 10 words comparison:\n",
            "Student essay: {',': 81, 'the': 62, 'her': 56, '.': 50, 'to': 47, 'and': 41, 'of': 34, 'hedda': 30, 'a': 30, 'that': 23}\n",
            "AI essay: {',': 39, 'the': 37, '.': 33, 'her': 32, 'of': 28, '’': 27, 's': 27, 'and': 23, 'a': 23, 'hedda': 22}\n",
            "\n",
            "Bigram overlap ratio: 0.109\n",
            "Jensen-Shannon distance: 0.245\n",
            "\n",
            "Essay 2 frequency comparison:\n",
            "\n",
            "Top 10 words comparison:\n",
            "Student essay: {',': 81, 'the': 62, 'her': 56, '.': 50, 'to': 47, 'and': 41, 'of': 34, 'hedda': 30, 'a': 30, 'that': 23}\n",
            "AI essay: {',': 41, 'her': 40, '.': 37, 'the': 32, 'to': 31, '’': 29, 's': 27, 'hedda': 23, 'and': 23, 'of': 22}\n",
            "\n",
            "Bigram overlap ratio: 0.115\n",
            "Jensen-Shannon distance: 0.238\n",
            "\n",
            "Essay 3 frequency comparison:\n",
            "\n",
            "Top 10 words comparison:\n",
            "Student essay: {',': 81, 'the': 62, 'her': 56, '.': 50, 'to': 47, 'and': 41, 'of': 34, 'hedda': 30, 'a': 30, 'that': 23}\n",
            "AI essay: {',': 41, 'her': 40, '.': 37, 'the': 32, 'to': 31, '’': 29, 's': 27, 'hedda': 23, 'and': 23, 'of': 22}\n",
            "\n",
            "Bigram overlap ratio: 0.115\n",
            "Jensen-Shannon distance: 0.238\n",
            "\n",
            "Essay 4 frequency comparison:\n",
            "\n",
            "Top 10 words comparison:\n",
            "Student essay: {',': 81, 'the': 62, 'her': 56, '.': 50, 'to': 47, 'and': 41, 'of': 34, 'hedda': 30, 'a': 30, 'that': 23}\n",
            "AI essay: {',': 40, 'her': 40, '.': 33, 'of': 30, 'and': 29, 'the': 29, '’': 24, 's': 23, 'a': 23, 'to': 22}\n",
            "\n",
            "Bigram overlap ratio: 0.107\n",
            "Jensen-Shannon distance: 0.245\n",
            "\n",
            "Essay 5 frequency comparison:\n",
            "\n",
            "Top 10 words comparison:\n",
            "Student essay: {',': 81, 'the': 62, 'her': 56, '.': 50, 'to': 47, 'and': 41, 'of': 34, 'hedda': 30, 'a': 30, 'that': 23}\n",
            "AI essay: {'of': 23, ',': 22, '.': 20, 'in': 18, 'the': 17, \"'s\": 17, 'a': 14, 'her': 14, 'hedda': 13, 'and': 13}\n",
            "\n",
            "Bigram overlap ratio: 0.061\n",
            "Jensen-Shannon distance: 0.306\n",
            "\n",
            "Essay 6 frequency comparison:\n",
            "\n",
            "Top 10 words comparison:\n",
            "Student essay: {',': 81, 'the': 62, 'her': 56, '.': 50, 'to': 47, 'and': 41, 'of': 34, 'hedda': 30, 'a': 30, 'that': 23}\n",
            "AI essay: {',': 42, 'of': 38, 'the': 36, '.': 34, 'and': 33, 'her': 28, '’': 22, 's': 22, 'a': 20, 'hedda': 19}\n",
            "\n",
            "Bigram overlap ratio: 0.092\n",
            "Jensen-Shannon distance: 0.256\n",
            "\n",
            "Essay 7 frequency comparison:\n",
            "\n",
            "Top 10 words comparison:\n",
            "Student essay: {',': 81, 'the': 62, 'her': 56, '.': 50, 'to': 47, 'and': 41, 'of': 34, 'hedda': 30, 'a': 30, 'that': 23}\n",
            "AI essay: {',': 42, 'of': 38, 'the': 36, '.': 34, 'and': 33, 'her': 28, '’': 22, 's': 22, 'a': 20, 'hedda': 19}\n",
            "\n",
            "Bigram overlap ratio: 0.092\n",
            "Jensen-Shannon distance: 0.256\n",
            "\n",
            "Essay 8 frequency comparison:\n",
            "\n",
            "Top 10 words comparison:\n",
            "Student essay: {',': 81, 'the': 62, 'her': 56, '.': 50, 'to': 47, 'and': 41, 'of': 34, 'hedda': 30, 'a': 30, 'that': 23}\n",
            "AI essay: {',': 46, '.': 38, 'the': 37, 'of': 35, 'her': 33, 'and': 29, '’': 24, 's': 24, 'hedda': 23, 'a': 20}\n",
            "\n",
            "Bigram overlap ratio: 0.100\n",
            "Jensen-Shannon distance: 0.250\n",
            "\n",
            "Essay 9 frequency comparison:\n",
            "\n",
            "Top 10 words comparison:\n",
            "Student essay: {',': 81, 'the': 62, 'her': 56, '.': 50, 'to': 47, 'and': 41, 'of': 34, 'hedda': 30, 'a': 30, 'that': 23}\n",
            "AI essay: {',': 64, 'the': 55, '.': 42, 'of': 41, 'and': 34, 'her': 29, 'hedda': 27, 'to': 27, 'a': 26, 'in': 23}\n",
            "\n",
            "Bigram overlap ratio: 0.109\n",
            "Jensen-Shannon distance: 0.248\n"
          ]
        }
      ],
      "source": [
        "# calculate word and phrase frequency, compare to model outputs\n",
        "from nltk.tokenize import word_tokenize\n",
        "from nltk.util import ngrams\n",
        "from collections import Counter\n",
        "from scipy.stats import entropy\n",
        "\n",
        "def get_freq_stats(text):\n",
        "    # Tokenize and get word frequencies\n",
        "    words = word_tokenize(text.lower())\n",
        "    word_freq = Counter(words)\n",
        "\n",
        "    # Get bigram frequencies\n",
        "    bi_grams = list(ngrams(words, 2))\n",
        "    bigram_freq = Counter(bi_grams)\n",
        "\n",
        "    # Get trigram frequencies\n",
        "    tri_grams = list(ngrams(words, 3))\n",
        "    trigram_freq = Counter(tri_grams)\n",
        "\n",
        "    return word_freq, bigram_freq, trigram_freq\n",
        "\n",
        "# Get frequencies for student essay\n",
        "student_freqs = get_freq_stats(student_essay)\n",
        "\n",
        "# Get frequencies for AI essays and calculate differences\n",
        "for i, essay in enumerate(essay_list[1:]):\n",
        "    ai_freqs = get_freq_stats(essay)\n",
        "\n",
        "    # Compare top words\n",
        "    print(f\"\\nEssay {i+1} frequency comparison:\")\n",
        "    print(\"\\nTop 10 words comparison:\")\n",
        "    student_top = dict(sorted(student_freqs[0].items(), key=lambda x:x[1], reverse=True)[:10])\n",
        "    ai_top = dict(sorted(ai_freqs[0].items(), key=lambda x:x[1], reverse=True)[:10])\n",
        "    print(f\"Student essay: {student_top}\")\n",
        "    print(f\"AI essay: {ai_top}\")\n",
        "\n",
        "    # Compare bigram overlap\n",
        "    student_bigrams = set(student_freqs[1].keys())\n",
        "    ai_bigrams = set(ai_freqs[1].keys())\n",
        "    bigram_overlap = len(student_bigrams.intersection(ai_bigrams)) / len(student_bigrams)\n",
        "    print(f\"\\nBigram overlap ratio: {bigram_overlap:.3f}\")\n",
        "\n",
        "    # Compare distribution similarity using Jensen-Shannon distance\n",
        "    all_words = set(student_freqs[0].keys()).union(set(ai_freqs[0].keys()))\n",
        "    p = np.array([student_freqs[0].get(w, 0) for w in all_words])\n",
        "    q = np.array([ai_freqs[0].get(w, 0) for w in all_words])\n",
        "    p = p / p.sum()  # normalize\n",
        "    q = q / q.sum()\n",
        "    m = 0.5 * (p + q)\n",
        "    js_dist = 0.5 * (entropy(p, m) + entropy(q, m))\n",
        "    print(f\"Jensen-Shannon distance: {js_dist:.3f}\")\n"
      ]
    },
    {
      "cell_type": "code",
      "source": [
        "# bar charts or histograms to show the distribution of top words/phrases"
      ],
      "metadata": {
        "id": "AcQHfOLu6ZNS"
      },
      "execution_count": null,
      "outputs": []
    },
    {
      "cell_type": "markdown",
      "metadata": {
        "id": "4du15NMMVJRH"
      },
      "source": [
        "### Perplexity Analysis\n",
        "Perplexity measures how \"surprised\" a language model is by a text. Lower perplexity means the text follows patterns the model expects.\n",
        "\n",
        "For AI detection:\n",
        "- AI text tends to have lower perplexity (more predictable patterns) than human text\n",
        "- Human writing is typically more \"surprising\" with higher perplexity scores\n",
        "- Large perplexity differences between essays suggest different authors/sources\n",
        "\n",
        "Interpreting the scores:\n",
        "- Student essay perplexity serves as baseline\n",
        "- AI essays with perplexity >20% lower than student = likely AI generated\n",
        "- Similar perplexity scores (±20%) = inconclusive\n",
        "- Higher perplexity in AI essays = possible human writing\n"
      ]
    },
    {
      "cell_type": "code",
      "execution_count": 15,
      "metadata": {
        "id": "DhIKKV3v-42E",
        "colab": {
          "base_uri": "https://localhost:8080/"
        },
        "outputId": "54b3c8e1-8443-41fa-d25f-513dcd09b608"
      },
      "outputs": [
        {
          "output_type": "stream",
          "name": "stderr",
          "text": [
            "Token indices sequence length is longer than the specified maximum sequence length for this model (1934 > 1024). Running this sequence through the model will result in indexing errors\n"
          ]
        },
        {
          "output_type": "stream",
          "name": "stdout",
          "text": [
            "\n",
            "Student essay perplexity: 27.53\n",
            "AI essay 1 perplexity: 15.47 (-43.8% vs student)\n",
            "AI essay 2 perplexity: 14.52 (-47.3% vs student)\n",
            "AI essay 3 perplexity: 14.11 (-48.7% vs student)\n",
            "AI essay 4 perplexity: 15.82 (-42.5% vs student)\n",
            "AI essay 5 perplexity: 21.34 (-22.5% vs student)\n",
            "AI essay 6 perplexity: 15.69 (-43.0% vs student)\n",
            "AI essay 7 perplexity: 16.22 (-41.1% vs student)\n",
            "AI essay 8 perplexity: 14.64 (-46.8% vs student)\n",
            "AI essay 9 perplexity: 11.89 (-56.8% vs student)\n"
          ]
        }
      ],
      "source": [
        "# calculate essay perplexity and compare to model output perplexity\n",
        "def calculate_perplexity(text, model, tokenizer):\n",
        "    # encode text\n",
        "    encodings = tokenizer(text, return_tensors='pt').to(model.device)\n",
        "    max_length = 512  # prevent OOM on long texts\n",
        "\n",
        "    # handle long sequences by splitting into chunks\n",
        "    stride = 512\n",
        "    nlls = []\n",
        "    for i in range(0, encodings.input_ids.size(1), stride):\n",
        "        begin = max(i - stride, 0)\n",
        "        end = min(i + max_length, encodings.input_ids.size(1))\n",
        "        trg_len = end - i\n",
        "\n",
        "        input_ids = encodings.input_ids[:, begin:end]\n",
        "        target_ids = input_ids.clone()\n",
        "        target_ids[:, :-trg_len] = -100 # ignore non-targets\n",
        "\n",
        "        with torch.no_grad():\n",
        "            outputs = model(input_ids, labels=target_ids)\n",
        "            neg_log_likelihood = outputs.loss\n",
        "\n",
        "        nlls.append(neg_log_likelihood)\n",
        "\n",
        "    return torch.exp(torch.stack(nlls).mean())\n",
        "\n",
        "# calculate perplexity for student essay\n",
        "student_perplexity = calculate_perplexity(student_essay, gpt2_model, gpt2_tokenizer)\n",
        "print(f\"\\nStudent essay perplexity: {student_perplexity:.2f}\")\n",
        "\n",
        "# calculate and compare perplexity for AI essays\n",
        "for i, essay in enumerate(essay_list[1:]):\n",
        "    ai_perplexity = calculate_perplexity(essay, gpt2_model, gpt2_tokenizer)\n",
        "    diff = ((ai_perplexity - student_perplexity) / student_perplexity) * 100\n",
        "    print(f\"AI essay {i+1} perplexity: {ai_perplexity:.2f} ({diff:+.1f}% vs student)\")\n"
      ]
    },
    {
      "cell_type": "code",
      "source": [
        "# a grouped bar chart (student vs AI) makes it easy to see which ones are suspiciously low"
      ],
      "metadata": {
        "id": "bSRnu1516gJw"
      },
      "execution_count": null,
      "outputs": []
    },
    {
      "cell_type": "markdown",
      "metadata": {
        "id": "B6gfVSyIVJRH"
      },
      "source": [
        "### Stylometry Comparison\n",
        "Stylometry is the statistical analysis of writing style. It examines measurable patterns in text like:\n",
        "- Average sentence/word length\n",
        "- Lexical density (ratio of content words to total words)\n",
        "- Function word usage (common words like \"the\", \"and\", \"of\")\n",
        "- Punctuation patterns\n",
        "\n",
        "We use these features to detect AI-generated text since language models often produce writing with:\n",
        "- More consistent/uniform sentence lengths\n",
        "- Higher lexical density (more varied vocabulary)\n",
        "- More regular punctuation patterns\n",
        "- Less natural function word usage\n",
        "\n",
        "Interpreting the scores:\n",
        "- Large differences (>15-20%) between human/AI essays in any metric are suspicious\n",
        "- AI text tends to be more \"regular\" - fewer stylistic variations\n",
        "- Human writing typically shows more natural variation in these metrics\n",
        "- Multiple metrics showing AI-like patterns increases confidence in detection\n"
      ]
    },
    {
      "cell_type": "code",
      "execution_count": 16,
      "metadata": {
        "id": "cFMHTeNX-_DG",
        "colab": {
          "base_uri": "https://localhost:8080/"
        },
        "outputId": "c7b3a67e-e0c7-4b06-96b9-9d2e263bbf2c"
      },
      "outputs": [
        {
          "output_type": "stream",
          "name": "stderr",
          "text": [
            "/usr/local/lib/python3.10/dist-packages/spacy/util.py:1740: UserWarning: [W111] Jupyter notebook detected: if using `prefer_gpu()` or `require_gpu()`, include it in the same cell right before `spacy.load()` to ensure that the model is loaded on the correct device. More information: http://spacy.io/usage/v3#jupyter-notebook-gpu\n",
            "  warnings.warn(Warnings.W111)\n"
          ]
        },
        {
          "output_type": "stream",
          "name": "stdout",
          "text": [
            "\n",
            "Student essay stylometric features:\n",
            "avg_sent_len: 26.345\n",
            "avg_word_len: 5.001\n",
            "lexical_density: 0.516\n",
            "function_words: 0.499\n",
            "punctuation_ratio: 0.113\n",
            "\n",
            "AI essay 1 stylometric differences:\n",
            "avg_sent_len: -4.4%\n",
            "avg_word_len: +5.4%\n",
            "lexical_density: +6.3%\n",
            "function_words: -2.1%\n",
            "punctuation_ratio: -12.3%\n",
            "\n",
            "AI essay 2 stylometric differences:\n",
            "avg_sent_len: -11.5%\n",
            "avg_word_len: +2.1%\n",
            "lexical_density: +7.3%\n",
            "function_words: -2.9%\n",
            "punctuation_ratio: -4.8%\n",
            "\n",
            "AI essay 3 stylometric differences:\n",
            "avg_sent_len: -11.8%\n",
            "avg_word_len: +2.1%\n",
            "lexical_density: +7.3%\n",
            "function_words: -2.9%\n",
            "punctuation_ratio: -4.5%\n",
            "\n",
            "AI essay 4 stylometric differences:\n",
            "avg_sent_len: -5.7%\n",
            "avg_word_len: +6.0%\n",
            "lexical_density: +7.9%\n",
            "function_words: -4.3%\n",
            "punctuation_ratio: -6.3%\n",
            "\n",
            "AI essay 5 stylometric differences:\n",
            "avg_sent_len: +20.7%\n",
            "avg_word_len: +14.8%\n",
            "lexical_density: +15.6%\n",
            "function_words: -12.9%\n",
            "punctuation_ratio: -8.3%\n",
            "\n",
            "AI essay 6 stylometric differences:\n",
            "avg_sent_len: -3.5%\n",
            "avg_word_len: +7.5%\n",
            "lexical_density: +6.4%\n",
            "function_words: -3.7%\n",
            "punctuation_ratio: -7.0%\n",
            "\n",
            "AI essay 7 stylometric differences:\n",
            "avg_sent_len: -3.5%\n",
            "avg_word_len: +7.5%\n",
            "lexical_density: +6.4%\n",
            "function_words: -3.7%\n",
            "punctuation_ratio: -7.0%\n",
            "\n",
            "AI essay 8 stylometric differences:\n",
            "avg_sent_len: -9.4%\n",
            "avg_word_len: +5.3%\n",
            "lexical_density: +4.3%\n",
            "function_words: -1.2%\n",
            "punctuation_ratio: -5.5%\n",
            "\n",
            "AI essay 9 stylometric differences:\n",
            "avg_sent_len: -4.3%\n",
            "avg_word_len: +5.4%\n",
            "lexical_density: +4.8%\n",
            "function_words: -3.9%\n",
            "punctuation_ratio: -1.8%\n"
          ]
        }
      ],
      "source": [
        "# compare stylometry\n",
        "nlp = spacy.load(\"en_core_web_sm\")\n",
        "# calculate stylometric features using spacy\n",
        "def get_stylometric_features(text, nlp):\n",
        "    doc = nlp(text)\n",
        "    features = {\n",
        "        'avg_sent_len': 0,\n",
        "        'avg_word_len': 0,\n",
        "        'lexical_density': 0,\n",
        "        'function_words': 0,\n",
        "        'punctuation_ratio': 0\n",
        "    }\n",
        "\n",
        "    # sentence and word length\n",
        "    sent_lengths = [len(sent) for sent in doc.sents]\n",
        "    word_lengths = [len(token.text) for token in doc if token.is_alpha]\n",
        "    features['avg_sent_len'] = np.mean(sent_lengths)\n",
        "    features['avg_word_len'] = np.mean(word_lengths)\n",
        "\n",
        "    # lexical density (content words / total words)\n",
        "    content_words = len([t for t in doc if not t.is_stop and t.is_alpha])\n",
        "    total_words = len([t for t in doc if t.is_alpha])\n",
        "    features['lexical_density'] = content_words / total_words if total_words > 0 else 0\n",
        "\n",
        "    # function word ratio\n",
        "    function_words = len([t for t in doc if t.is_stop])\n",
        "    features['function_words'] = function_words / total_words if total_words > 0 else 0\n",
        "\n",
        "    # punctuation ratio\n",
        "    punct = len([t for t in doc if t.is_punct])\n",
        "    features['punctuation_ratio'] = punct / len(doc) if len(doc) > 0 else 0\n",
        "\n",
        "    return features\n",
        "\n",
        "# get features for student essay\n",
        "student_style = get_stylometric_features(student_essay, nlp)\n",
        "print(\"\\nStudent essay stylometric features:\")\n",
        "for k,v in student_style.items():\n",
        "    print(f\"{k}: {v:.3f}\")\n",
        "\n",
        "# compare with AI essays\n",
        "for i, essay in enumerate(essay_list[1:]):\n",
        "    ai_style = get_stylometric_features(essay, nlp)\n",
        "    print(f\"\\nAI essay {i+1} stylometric differences:\")\n",
        "    for k in student_style:\n",
        "        diff = ((ai_style[k] - student_style[k]) / student_style[k]) * 100\n",
        "        print(f\"{k}: {diff:+.1f}%\")\n"
      ]
    },
    {
      "cell_type": "code",
      "source": [
        "# radar/spider chart for multiple style features at once (avg word length, function-word ratio, etc.).\n",
        "# box plots to compare distributions across essays."
      ],
      "metadata": {
        "id": "YmfwGisk6oWq"
      },
      "execution_count": null,
      "outputs": []
    },
    {
      "cell_type": "markdown",
      "metadata": {
        "id": "NmkIQANlVJRI"
      },
      "source": [
        "### Semantic Coherence Analysis\n",
        "\n",
        "Semantic coherence measures how well consecutive sentences flow and connect logically by comparing their semantic similarity.\n",
        "Higher coherence scores (closer to 1.0) indicate smoother transitions between ideas, while lower scores suggest more abrupt changes.\n",
        "\n",
        "AI models often produce text with unusually high coherence since they optimize for consistent semantic flow.\n",
        "Human writing typically shows more natural variation in coherence as writers balance flow with emphasis and style.\n",
        "\n",
        "Interpreting the results:\n",
        "- If AI essays show significantly higher coherence (+10-30%) vs student essay: Likely AI generated\n",
        "- If coherence differences are minimal (-10% to +10%): Inconclusive, need other metrics\n",
        "- If AI essays show lower coherence: Likely human written, or poorly generated AI text\n"
      ]
    },
    {
      "cell_type": "code",
      "execution_count": 17,
      "metadata": {
        "id": "hUhSgci3_DlP",
        "colab": {
          "base_uri": "https://localhost:8080/"
        },
        "outputId": "85ca3bd5-197e-4a3f-a1ea-a4fa243f7f8f"
      },
      "outputs": [
        {
          "output_type": "stream",
          "name": "stdout",
          "text": [
            "\n",
            "Student essay semantic coherence: 0.521\n",
            "AI essay 1 semantic coherence: 0.548\n",
            "AI essay 2 semantic coherence: 0.553\n",
            "AI essay 3 semantic coherence: 0.553\n",
            "AI essay 4 semantic coherence: 0.583\n",
            "AI essay 5 semantic coherence: 0.584\n",
            "AI essay 6 semantic coherence: 0.582\n",
            "AI essay 7 semantic coherence: 0.582\n",
            "AI essay 8 semantic coherence: 0.557\n",
            "AI essay 9 semantic coherence: 0.535\n",
            "\n",
            "Coherence differences vs student essay:\n",
            "AI essay 1: +5.1%\n",
            "AI essay 2: +6.1%\n",
            "AI essay 3: +6.1%\n",
            "AI essay 4: +11.8%\n",
            "AI essay 5: +12.0%\n",
            "AI essay 6: +11.6%\n",
            "AI essay 7: +11.6%\n",
            "AI essay 8: +6.9%\n",
            "AI essay 9: +2.7%\n"
          ]
        }
      ],
      "source": [
        "# compute and compare semantic coherence\n",
        "def get_semantic_coherence(text, nlp):\n",
        "    # break into sentences and get embeddings\n",
        "    sents = [sent.text.strip() for sent in nlp(text).sents]\n",
        "    if len(sents) < 2:\n",
        "        return 0.0\n",
        "\n",
        "    # get embeddings for each sentence\n",
        "    embeddings = []\n",
        "    for sent in sents:\n",
        "        doc = nlp(sent)\n",
        "        if doc.has_vector:\n",
        "            embeddings.append(doc.vector)\n",
        "\n",
        "    # calculate cosine similarity between consecutive sentences\n",
        "    coherence_scores = []\n",
        "    for i in range(len(embeddings)-1):\n",
        "        sim = 1 - cosine(embeddings[i], embeddings[i+1])\n",
        "        coherence_scores.append(sim)\n",
        "\n",
        "    return np.mean(coherence_scores)\n",
        "\n",
        "# get coherence scores\n",
        "student_coherence = get_semantic_coherence(student_essay, nlp)\n",
        "print(f\"\\nStudent essay semantic coherence: {student_coherence:.3f}\")\n",
        "\n",
        "ai_coherences = []\n",
        "for i, essay in enumerate(essay_list[1:]):\n",
        "    coh = get_semantic_coherence(essay, nlp)\n",
        "    ai_coherences.append(coh)\n",
        "    print(f\"AI essay {i+1} semantic coherence: {coh:.3f}\")\n",
        "\n",
        "# compare differences\n",
        "print(\"\\nCoherence differences vs student essay:\")\n",
        "for i, coh in enumerate(ai_coherences):\n",
        "    diff = ((coh - student_coherence) / student_coherence) * 100\n",
        "    print(f\"AI essay {i+1}: {diff:+.1f}%\")\n"
      ]
    },
    {
      "cell_type": "code",
      "source": [
        "# bar chart of average coherence per essay\n",
        "# line chart to see progression across paragraphs/sentences"
      ],
      "metadata": {
        "id": "4e4gISih6_da"
      },
      "execution_count": null,
      "outputs": []
    },
    {
      "cell_type": "markdown",
      "metadata": {
        "id": "l6iSuKh0_M2U"
      },
      "source": [
        "## Mathematical Methods\n",
        "\n",
        "###Total Variation Distance Analysis\n",
        "\n",
        "Total Variation (TV) distance measures the maximum difference between probability distributions.\n",
        "For essay analysis, we:\n",
        "1. Convert each essay's word frequencies into probability distributions\n",
        "2. Calculate TV distance between student and AI essays (0-1 scale)\n",
        "3. Compare distances to detect AI generation\n",
        "\n",
        "Interpretation:\n",
        "- TV distance close to 0: Very similar word distributions\n",
        "- TV distance close to 1: Very different word distributions\n",
        "- Higher TV distances suggest AI generation\n",
        "- Compare against mean TV distance to identify outliers\n",
        "\n",
        "Note: This complements other metrics since AI models may produce\n",
        "different word frequency patterns than human writers\n"
      ]
    },
    {
      "source": [
        "import nltk\n",
        "nltk.download('punkt_tab')\n",
        "from nltk.tokenize import word_tokenize\n",
        "\n",
        "def get_tv_distance(p, q, all_words):\n",
        "    \"\"\"\n",
        "    Calculate Total Variation distance between two probability distributions.\n",
        "\n",
        "    Args:\n",
        "        p (dict): Word frequency distribution for the first text.\n",
        "        q (dict): Word frequency distribution for the second text.\n",
        "        all_words (set): Set of all words in both texts.\n",
        "\n",
        "    Returns:\n",
        "        float: Total Variation distance.\n",
        "    \"\"\"\n",
        "\n",
        "    # Create probability distributions with consistent vocabulary\n",
        "    p_dist = np.array([p.get(w, 0) for w in all_words])\n",
        "    q_dist = np.array([q.get(w, 0) for w in all_words])\n",
        "\n",
        "    # Normalize to probability distributions\n",
        "    p_dist = p_dist / p_dist.sum() if p_dist.sum() > 0 else p_dist\n",
        "    q_dist = q_dist / q_dist.sum() if q_dist.sum() > 0 else q_dist\n",
        "\n",
        "    return 0.5 * np.sum(np.abs(p_dist - q_dist))\n",
        "\n",
        "# get word frequency distributions\n",
        "def get_word_dist(text):\n",
        "    \"\"\"\n",
        "    Get word frequency distribution for a text.\n",
        "\n",
        "    Args:\n",
        "        text (str): The input text.\n",
        "\n",
        "    Returns:\n",
        "        dict: Word frequency distribution.\n",
        "    \"\"\"\n",
        "\n",
        "    words = word_tokenize(text.lower())\n",
        "    return Counter(words) # Return the Counter object directly\n",
        "\n",
        "# calculate TV distances\n",
        "student_dist = get_word_dist(student_essay)\n",
        "\n",
        "tv_distances = []\n",
        "for i, essay in enumerate(essay_list[1:]):\n",
        "    ai_dist = get_word_dist(essay)\n",
        "    all_words = set(student_dist.keys()).union(set(ai_dist.keys()))  # Get all unique words\n",
        "    tv_dist = get_tv_distance(student_dist, ai_dist, all_words)  # Pass all_words to get_tv_distance\n",
        "    tv_distances.append(tv_dist)\n",
        "    print(f\"TV distance between student and AI essay {i+1}: {tv_dist:.3f}\")\n",
        "\n",
        "# compare differences\n",
        "print(\"\\nTV distance differences vs mean:\")\n",
        "mean_tv = np.mean(tv_distances)\n",
        "for i, dist in enumerate(tv_distances):\n",
        "    diff = ((dist - mean_tv) / mean_tv) * 100\n",
        "    print(f\"AI essay {i+1}: {diff:+.1f}% from mean\")"
      ],
      "cell_type": "code",
      "metadata": {
        "colab": {
          "base_uri": "https://localhost:8080/"
        },
        "id": "7ZyHi6zEx50j",
        "outputId": "a177510b-2e25-4ede-c449-c18e477e7c07"
      },
      "execution_count": 18,
      "outputs": [
        {
          "output_type": "stream",
          "name": "stdout",
          "text": [
            "TV distance between student and AI essay 1: 0.458\n",
            "TV distance between student and AI essay 2: 0.451\n",
            "TV distance between student and AI essay 3: 0.451\n",
            "TV distance between student and AI essay 4: 0.463\n",
            "TV distance between student and AI essay 5: 0.545\n",
            "TV distance between student and AI essay 6: 0.477\n",
            "TV distance between student and AI essay 7: 0.477\n",
            "TV distance between student and AI essay 8: 0.453\n",
            "TV distance between student and AI essay 9: 0.472\n",
            "\n",
            "TV distance differences vs mean:\n",
            "AI essay 1: -2.9% from mean\n",
            "AI essay 2: -4.4% from mean\n",
            "AI essay 3: -4.4% from mean\n",
            "AI essay 4: -1.8% from mean\n",
            "AI essay 5: +15.4% from mean\n",
            "AI essay 6: +1.0% from mean\n",
            "AI essay 7: +1.0% from mean\n",
            "AI essay 8: -3.9% from mean\n",
            "AI essay 9: +0.0% from mean\n"
          ]
        },
        {
          "output_type": "stream",
          "name": "stderr",
          "text": [
            "[nltk_data] Downloading package punkt_tab to /root/nltk_data...\n",
            "[nltk_data]   Package punkt_tab is already up-to-date!\n"
          ]
        }
      ]
    },
    {
      "cell_type": "code",
      "source": [
        "# bar chart for each essay’s TV distance from the student baseline"
      ],
      "metadata": {
        "id": "LJ0J_uCe7Jzg"
      },
      "execution_count": null,
      "outputs": []
    },
    {
      "cell_type": "code",
      "source": [
        "# radar chart comparing multiple distribution-based metrics side by side"
      ],
      "metadata": {
        "id": "sJzDpjm7_IQ8"
      },
      "execution_count": null,
      "outputs": []
    },
    {
      "cell_type": "markdown",
      "metadata": {
        "id": "GNZr2d9zVJRJ"
      },
      "source": [
        "### Perturbation Discrepancy Detection Method\n",
        "Perturbation Discrepancy Detection Method\n",
        "\n",
        "This method analyzes how stable/consistent the text embeddings are under small random perturbations.\n",
        "The intuition is that AI-generated text may show different patterns of embedding stability\n",
        "compared to human-written text.\n",
        "\n",
        "How it works:\n",
        "1. Get base embedding vector for the text\n",
        "2. Add small random noise multiple times to create perturbed versions\n",
        "3. Calculate mean cosine distance between the perturbed embeddings\n",
        "\n",
        "Interpretation:\n",
        "- Lower discrepancy scores indicate more stable/consistent embeddings\n",
        "- Higher discrepancy suggests more sensitivity to perturbations\n",
        "- AI text often shows different discrepancy patterns vs human text\n",
        "- Compare % differences between student and AI essays\n",
        "- Large deviations from student essay (>20%) may indicate AI generation\n",
        "\n",
        "Interpreting the scores:\n",
        "- Student essays typically show discrepancy scores around 0.1-0.3\n",
        "- AI essays often have scores 20-50% higher than human essays\n",
        "- If an essay's discrepancy is >20% higher than the student's score,\n",
        "  it suggests possible AI generation\n",
        "- Very low discrepancy (<0.1) can also be suspicious as it may indicate\n",
        "  unnaturally consistent text\n",
        "- Compare the % differences - larger gaps between student and AI scores\n",
        "  increase confidence in detection\n",
        "\n"
      ]
    },
    {
      "cell_type": "code",
      "execution_count": 19,
      "metadata": {
        "id": "tKVqKpYE_VWH",
        "colab": {
          "base_uri": "https://localhost:8080/"
        },
        "outputId": "66cf9046-7eaf-458a-b558-b689eb3693c5"
      },
      "outputs": [
        {
          "output_type": "stream",
          "name": "stdout",
          "text": [
            "Perturbation discrepancy for AI essay 1: 0.013\n",
            "Perturbation discrepancy for AI essay 2: 0.013\n",
            "Perturbation discrepancy for AI essay 3: 0.013\n",
            "Perturbation discrepancy for AI essay 4: 0.012\n",
            "Perturbation discrepancy for AI essay 5: 0.014\n",
            "Perturbation discrepancy for AI essay 6: 0.013\n",
            "Perturbation discrepancy for AI essay 7: 0.012\n",
            "Perturbation discrepancy for AI essay 8: 0.013\n",
            "Perturbation discrepancy for AI essay 9: 0.012\n",
            "\n",
            "Student essay discrepancy: 0.014\n",
            "\n",
            "Discrepancy differences vs student essay:\n",
            "AI essay 1: -6.0%\n",
            "AI essay 2: -6.9%\n",
            "AI essay 3: -7.4%\n",
            "AI essay 4: -13.4%\n",
            "AI essay 5: +3.7%\n",
            "AI essay 6: -7.2%\n",
            "AI essay 7: -8.4%\n",
            "AI essay 8: -4.8%\n",
            "AI essay 9: -15.2%\n"
          ]
        }
      ],
      "source": [
        "# Perturbation discrepancy detection method\n",
        "# calculate perturbation discrepancy by adding small random noise to embeddings\n",
        "def get_perturb_discrepancy(text, n_perturb=10, noise_scale=0.01):\n",
        "    # get base embedding\n",
        "    base_emb = faiss_analyzer.get_embedding(text)\n",
        "\n",
        "    # generate perturbed embeddings\n",
        "    perturbed = []\n",
        "    for _ in range(n_perturb):\n",
        "        noise = np.random.normal(0, noise_scale, base_emb.shape)\n",
        "        perturbed.append(base_emb + noise)\n",
        "    perturbed = np.vstack(perturbed)\n",
        "\n",
        "    # calculate mean cosine distance between perturbed versions\n",
        "    dists = []\n",
        "    for i in range(n_perturb):\n",
        "        for j in range(i+1, n_perturb):\n",
        "            dist = cosine(perturbed[i], perturbed[j])\n",
        "            dists.append(dist)\n",
        "    return np.mean(dists)\n",
        "\n",
        "# calculate discrepancy for student and AI essays\n",
        "student_disc = get_perturb_discrepancy(student_essay)\n",
        "ai_discs = []\n",
        "\n",
        "for i, essay in enumerate(essay_list[1:]):\n",
        "    disc = get_perturb_discrepancy(essay)\n",
        "    ai_discs.append(disc)\n",
        "    print(f\"Perturbation discrepancy for AI essay {i+1}: {disc:.3f}\")\n",
        "\n",
        "print(f\"\\nStudent essay discrepancy: {student_disc:.3f}\")\n",
        "\n",
        "# compare differences vs student\n",
        "print(\"\\nDiscrepancy differences vs student essay:\")\n",
        "for i, disc in enumerate(ai_discs):\n",
        "    diff = ((disc - student_disc) / student_disc) * 100\n",
        "    print(f\"AI essay {i+1}: {diff:+.1f}%\")\n"
      ]
    },
    {
      "cell_type": "code",
      "source": [
        "# box plot for distribution of distances among perturbed versions (or bar chart of the mean discrepancy)."
      ],
      "metadata": {
        "id": "xW6bzl6X7VGC"
      },
      "execution_count": null,
      "outputs": []
    },
    {
      "cell_type": "markdown",
      "metadata": {
        "id": "OH0DpcjiVJRJ"
      },
      "source": [
        "## Ensemble Analysis"
      ]
    },
    {
      "cell_type": "code",
      "execution_count": 20,
      "metadata": {
        "colab": {
          "base_uri": "https://localhost:8080/",
          "height": 365
        },
        "id": "kSSAA3rjVJRK",
        "outputId": "3b8624d4-4b20-4a8f-edfc-9b57faaa4c2f"
      },
      "outputs": [
        {
          "output_type": "error",
          "ename": "ValueError",
          "evalue": "shapes (68,) and (67,) not aligned: 68 (dim 0) != 67 (dim 0)",
          "traceback": [
            "\u001b[0;31m---------------------------------------------------------------------------\u001b[0m",
            "\u001b[0;31mValueError\u001b[0m                                Traceback (most recent call last)",
            "\u001b[0;32m<ipython-input-20-866099cd445f>\u001b[0m in \u001b[0;36m<cell line: 127>\u001b[0;34m()\u001b[0m\n\u001b[1;32m    125\u001b[0m \u001b[0;34m\u001b[0m\u001b[0m\n\u001b[1;32m    126\u001b[0m \u001b[0;31m# Run the ensemble analysis\u001b[0m\u001b[0;34m\u001b[0m\u001b[0;34m\u001b[0m\u001b[0m\n\u001b[0;32m--> 127\u001b[0;31m ensemble_output = ensemble_analysis(\n\u001b[0m\u001b[1;32m    128\u001b[0m     \u001b[0mstudent_essay\u001b[0m\u001b[0;34m,\u001b[0m \u001b[0messay_list\u001b[0m\u001b[0;34m[\u001b[0m\u001b[0;36m1\u001b[0m\u001b[0;34m:\u001b[0m\u001b[0;34m]\u001b[0m\u001b[0;34m,\u001b[0m \u001b[0mfaiss_analyzer\u001b[0m\u001b[0;34m,\u001b[0m \u001b[0mnlp\u001b[0m\u001b[0;34m,\u001b[0m \u001b[0mgpt2_model\u001b[0m\u001b[0;34m,\u001b[0m \u001b[0mgpt2_tokenizer\u001b[0m\u001b[0;34m\u001b[0m\u001b[0;34m\u001b[0m\u001b[0m\n\u001b[1;32m    129\u001b[0m )\n",
            "\u001b[0;32m<ipython-input-20-866099cd445f>\u001b[0m in \u001b[0;36mensemble_analysis\u001b[0;34m(student_essay, essay_list, faiss_analyzer, nlp, gpt2_model, gpt2_tokenizer)\u001b[0m\n\u001b[1;32m     20\u001b[0m     \u001b[0mall_essays\u001b[0m \u001b[0;34m=\u001b[0m \u001b[0;34m[\u001b[0m\u001b[0mstudent_essay\u001b[0m\u001b[0;34m]\u001b[0m \u001b[0;34m+\u001b[0m \u001b[0messay_list\u001b[0m\u001b[0;34m\u001b[0m\u001b[0;34m\u001b[0m\u001b[0m\n\u001b[1;32m     21\u001b[0m \u001b[0;34m\u001b[0m\u001b[0m\n\u001b[0;32m---> 22\u001b[0;31m     semantic_similarities = faiss_analyzer.compare_texts(\n\u001b[0m\u001b[1;32m     23\u001b[0m         student_essay, essay_list)['semantic_similarity']\n\u001b[1;32m     24\u001b[0m     syntactic_similarities = faiss_analyzer.compare_texts(\n",
            "\u001b[0;32m<ipython-input-9-39b9a32875db>\u001b[0m in \u001b[0;36mcompare_texts\u001b[0;34m(self, original, generated_samples)\u001b[0m\n\u001b[1;32m    159\u001b[0m             \u001b[0;31m# Syntactic similarity using feature vectors\u001b[0m\u001b[0;34m\u001b[0m\u001b[0;34m\u001b[0m\u001b[0m\n\u001b[1;32m    160\u001b[0m             \u001b[0msample_syntactic\u001b[0m \u001b[0;34m=\u001b[0m \u001b[0mself\u001b[0m\u001b[0;34m.\u001b[0m\u001b[0msyntactic_features\u001b[0m\u001b[0;34m(\u001b[0m\u001b[0msample\u001b[0m\u001b[0;34m)\u001b[0m\u001b[0;34m\u001b[0m\u001b[0;34m\u001b[0m\u001b[0m\n\u001b[0;32m--> 161\u001b[0;31m             syntactic_sim = 1.0 - cosine(\n\u001b[0m\u001b[1;32m    162\u001b[0m                 \u001b[0mnp\u001b[0m\u001b[0;34m.\u001b[0m\u001b[0marray\u001b[0m\u001b[0;34m(\u001b[0m\u001b[0mlist\u001b[0m\u001b[0;34m(\u001b[0m\u001b[0morig_syntactic\u001b[0m\u001b[0;34m.\u001b[0m\u001b[0mvalues\u001b[0m\u001b[0;34m(\u001b[0m\u001b[0;34m)\u001b[0m\u001b[0;34m)\u001b[0m\u001b[0;34m)\u001b[0m\u001b[0;34m,\u001b[0m\u001b[0;34m\u001b[0m\u001b[0;34m\u001b[0m\u001b[0m\n\u001b[1;32m    163\u001b[0m                 \u001b[0mnp\u001b[0m\u001b[0;34m.\u001b[0m\u001b[0marray\u001b[0m\u001b[0;34m(\u001b[0m\u001b[0mlist\u001b[0m\u001b[0;34m(\u001b[0m\u001b[0msample_syntactic\u001b[0m\u001b[0;34m.\u001b[0m\u001b[0mvalues\u001b[0m\u001b[0;34m(\u001b[0m\u001b[0;34m)\u001b[0m\u001b[0;34m)\u001b[0m\u001b[0;34m)\u001b[0m\u001b[0;34m\u001b[0m\u001b[0;34m\u001b[0m\u001b[0m\n",
            "\u001b[0;32m/usr/local/lib/python3.10/dist-packages/scipy/spatial/distance.py\u001b[0m in \u001b[0;36mcosine\u001b[0;34m(u, v, w)\u001b[0m\n\u001b[1;32m    692\u001b[0m     \u001b[0;31m# cosine distance is also referred to as 'uncentered correlation',\u001b[0m\u001b[0;34m\u001b[0m\u001b[0;34m\u001b[0m\u001b[0m\n\u001b[1;32m    693\u001b[0m     \u001b[0;31m#   or 'reflective correlation'\u001b[0m\u001b[0;34m\u001b[0m\u001b[0;34m\u001b[0m\u001b[0m\n\u001b[0;32m--> 694\u001b[0;31m     \u001b[0;32mreturn\u001b[0m \u001b[0mcorrelation\u001b[0m\u001b[0;34m(\u001b[0m\u001b[0mu\u001b[0m\u001b[0;34m,\u001b[0m \u001b[0mv\u001b[0m\u001b[0;34m,\u001b[0m \u001b[0mw\u001b[0m\u001b[0;34m=\u001b[0m\u001b[0mw\u001b[0m\u001b[0;34m,\u001b[0m \u001b[0mcentered\u001b[0m\u001b[0;34m=\u001b[0m\u001b[0;32mFalse\u001b[0m\u001b[0;34m)\u001b[0m\u001b[0;34m\u001b[0m\u001b[0;34m\u001b[0m\u001b[0m\n\u001b[0m\u001b[1;32m    695\u001b[0m \u001b[0;34m\u001b[0m\u001b[0m\n\u001b[1;32m    696\u001b[0m \u001b[0;34m\u001b[0m\u001b[0m\n",
            "\u001b[0;32m/usr/local/lib/python3.10/dist-packages/scipy/spatial/distance.py\u001b[0m in \u001b[0;36mcorrelation\u001b[0;34m(u, v, w, centered)\u001b[0m\n\u001b[1;32m    642\u001b[0m     \u001b[0;32melse\u001b[0m\u001b[0;34m:\u001b[0m\u001b[0;34m\u001b[0m\u001b[0;34m\u001b[0m\u001b[0m\n\u001b[1;32m    643\u001b[0m         \u001b[0mvw\u001b[0m\u001b[0;34m,\u001b[0m \u001b[0muw\u001b[0m \u001b[0;34m=\u001b[0m \u001b[0mv\u001b[0m\u001b[0;34m,\u001b[0m \u001b[0mu\u001b[0m\u001b[0;34m\u001b[0m\u001b[0;34m\u001b[0m\u001b[0m\n\u001b[0;32m--> 644\u001b[0;31m     \u001b[0muv\u001b[0m \u001b[0;34m=\u001b[0m \u001b[0mnp\u001b[0m\u001b[0;34m.\u001b[0m\u001b[0mdot\u001b[0m\u001b[0;34m(\u001b[0m\u001b[0mu\u001b[0m\u001b[0;34m,\u001b[0m \u001b[0mvw\u001b[0m\u001b[0;34m)\u001b[0m\u001b[0;34m\u001b[0m\u001b[0;34m\u001b[0m\u001b[0m\n\u001b[0m\u001b[1;32m    645\u001b[0m     \u001b[0muu\u001b[0m \u001b[0;34m=\u001b[0m \u001b[0mnp\u001b[0m\u001b[0;34m.\u001b[0m\u001b[0mdot\u001b[0m\u001b[0;34m(\u001b[0m\u001b[0mu\u001b[0m\u001b[0;34m,\u001b[0m \u001b[0muw\u001b[0m\u001b[0;34m)\u001b[0m\u001b[0;34m\u001b[0m\u001b[0;34m\u001b[0m\u001b[0m\n\u001b[1;32m    646\u001b[0m     \u001b[0mvv\u001b[0m \u001b[0;34m=\u001b[0m \u001b[0mnp\u001b[0m\u001b[0;34m.\u001b[0m\u001b[0mdot\u001b[0m\u001b[0;34m(\u001b[0m\u001b[0mv\u001b[0m\u001b[0;34m,\u001b[0m \u001b[0mvw\u001b[0m\u001b[0;34m)\u001b[0m\u001b[0;34m\u001b[0m\u001b[0;34m\u001b[0m\u001b[0m\n",
            "\u001b[0;31mValueError\u001b[0m: shapes (68,) and (67,) not aligned: 68 (dim 0) != 67 (dim 0)"
          ]
        }
      ],
      "source": [
        "import spacy\n",
        "nlp = spacy.load(\"en_core_web_sm\")\n",
        "# Assuming you have run all the analysis cells and have the results stored, e.g.:\n",
        "# semantic_scores (compared to original essay)\n",
        "# syntactic_scores (compared to original essay)\n",
        "# js_distances (Jensen-Shannon distances)\n",
        "# student_perplexities, ai_perplexities\n",
        "# student_style, ai_styles\n",
        "# student_coherence, ai_coherences\n",
        "# tv_distances\n",
        "# student_disc, ai_discs\n",
        "\n",
        "def ensemble_analysis(student_essay, essay_list, faiss_analyzer, nlp, gpt2_model, gpt2_tokenizer):\n",
        "    \"\"\"\n",
        "    Combines multiple analysis techniques to predict if essays are AI-generated.\n",
        "    \"\"\"\n",
        "    ensemble_results = []\n",
        "\n",
        "    # 1. Run individual analyses on all essays\n",
        "    all_essays = [student_essay] + essay_list\n",
        "\n",
        "    semantic_similarities = faiss_analyzer.compare_texts(\n",
        "        student_essay, essay_list)['semantic_similarity']\n",
        "    syntactic_similarities = faiss_analyzer.compare_texts(\n",
        "        student_essay, essay_list)['syntactic_similarity']\n",
        "\n",
        "    js_distances = []\n",
        "    student_freqs = get_freq_stats(student_essay)\n",
        "    for essay in essay_list:\n",
        "        ai_freqs = get_freq_stats(essay)\n",
        "        all_words = set(student_freqs[0].keys()).union(set(ai_freqs[0].keys()))\n",
        "        p = np.array([student_freqs[0].get(w, 0) for w in all_words])\n",
        "        q = np.array([ai_freqs[0].get(w, 0) for w in all_words])\n",
        "        p = p / p.sum() if p.sum() > 0 else p\n",
        "        q = q / q.sum() if q.sum() > 0 else q\n",
        "        m = 0.5 * (p + q)\n",
        "        js_dist = 0.5 * (entropy(p, m) + entropy(q, m)) if (p.sum() >\n",
        "                                                            0 and q.sum() > 0) else 1.0  # Handle cases with empty vocab\n",
        "        js_distances.append(js_dist)\n",
        "\n",
        "    ai_perplexities = [calculate_perplexity(\n",
        "        essay, gpt2_model, gpt2_tokenizer).item() for essay in essay_list]\n",
        "    student_perplexity = calculate_perplexity(\n",
        "        student_essay, gpt2_model, gpt2_tokenizer).item()\n",
        "\n",
        "    ai_styles = [get_stylometric_features(essay, nlp) for essay in essay_list]\n",
        "    student_style = get_stylometric_features(student_essay, nlp)\n",
        "\n",
        "    ai_coherences = [get_semantic_coherence(essay, nlp) for essay in essay_list]\n",
        "    student_coherence = get_semantic_coherence(student_essay, nlp)\n",
        "\n",
        "    tv_distances = []\n",
        "    student_dist = get_word_dist(student_essay)\n",
        "    for essay in essay_list:\n",
        "        ai_dist = get_word_dist(essay)\n",
        "        tv_dist = get_tv_distance(student_dist, ai_dist)\n",
        "        tv_distances.append(tv_dist)\n",
        "\n",
        "    ai_discs = [get_perturb_discrepancy(\n",
        "        essay, faiss_analyzer=faiss_analyzer) for essay in essay_list]\n",
        "    student_disc = get_perturb_discrepancy(\n",
        "        student_essay, faiss_analyzer=faiss_analyzer)\n",
        "\n",
        "    # 2. Combine the scores with weights (you'll need to tune these weights)\n",
        "    for i, ai_essay in enumerate(essay_list):\n",
        "        weights = {\n",
        "            \"semantic_similarity\": -0.2,  # Lower is more likely AI\n",
        "            \"syntactic_similarity\": -0.15,  # Lower is more likely AI\n",
        "            \"js_distance\": 0.1,       # Higher is more likely AI\n",
        "            \"perplexity_diff\": 0.1,   # Higher AI perplexity vs student is more likely human\n",
        "            \"style_diff\": 0.05,       # Significant style differences might indicate AI\n",
        "            \"coherence_diff\": -0.1,    # Higher coherence is more likely AI\n",
        "            \"tv_distance\": 0.15,      # Higher TV distance is more likely AI\n",
        "            \"perturb_discrepancy_diff\": -0.1  # Higher discrepancy is more likely AI\n",
        "        }\n",
        "\n",
        "        # Calculate weighted scores (you might need to normalize or adjust these based on your data)\n",
        "        weighted_score = 0\n",
        "\n",
        "        # Semantic Similarity (higher score = more similar = more likely AI if comparing AI-generated essays)\n",
        "        weighted_score += weights[\"semantic_similarity\"] * \\\n",
        "            semantic_similarities[i]\n",
        "\n",
        "        # Syntactic Similarity (higher score = more similar = more likely AI if comparing AI-generated essays)\n",
        "        weighted_score += weights[\"syntactic_similarity\"] * \\\n",
        "            syntactic_similarities[i]\n",
        "\n",
        "        # Jensen-Shannon Distance (lower score = more similar word distribution = more likely AI)\n",
        "        weighted_score += weights[\"js_distance\"] * js_distances[i]\n",
        "\n",
        "        # Perplexity Difference (lower perplexity for AI)\n",
        "        perplexity_diff = (ai_perplexities[i] - student_perplexity) / \\\n",
        "            student_perplexity if student_perplexity != 0 else 0\n",
        "        weighted_score += weights[\"perplexity_diff\"] * perplexity_diff\n",
        "\n",
        "        # Stylometry Differences (you might want to look at specific features here)\n",
        "        style_diff_sum = 0\n",
        "        for key in student_style:\n",
        "            diff = (ai_styles[i][key] - student_style[key]) / \\\n",
        "                student_style[key] if student_style[key] != 0 else 0\n",
        "            style_diff_sum += diff\n",
        "        weighted_score += weights[\"style_diff\"] * style_diff_sum\n",
        "\n",
        "        # Semantic Coherence Difference (higher coherence for AI)\n",
        "        coherence_diff = (ai_coherences[i] - student_coherence) / \\\n",
        "            student_coherence if student_coherence != 0 else 0\n",
        "        weighted_score += weights[\"coherence_diff\"] * coherence_diff\n",
        "\n",
        "        # Total Variation Distance (higher distance for AI)\n",
        "        weighted_score += weights[\"tv_distance\"] * tv_distances[i]\n",
        "\n",
        "        # Perturbation Discrepancy Difference (higher discrepancy for AI)\n",
        "        perturb_discrepancy_diff = (\n",
        "            ai_discs[i] - student_disc) / student_disc if student_disc != 0 else 0\n",
        "        weighted_score += weights[\"perturb_discrepancy_diff\"] * \\\n",
        "            perturb_discrepancy_diff\n",
        "\n",
        "        ensemble_results.append({\n",
        "            \"essay_index\": i + 1,\n",
        "            \"weighted_score\": weighted_score\n",
        "        })\n",
        "\n",
        "    return ensemble_results\n",
        "\n",
        "\n",
        "# Run the ensemble analysis\n",
        "ensemble_output = ensemble_analysis(\n",
        "    student_essay, essay_list[1:], faiss_analyzer, nlp, gpt2_model, gpt2_tokenizer\n",
        ")\n",
        "\n",
        "# 3. Interpret the results based on a threshold\n",
        "print(\"\\nEnsemble Analysis Results:\")\n",
        "threshold = 0.0  #tune this threshold\n",
        "for result in ensemble_output:\n",
        "    is_ai_generated = result[\"weighted_score\"] > threshold\n",
        "    print(f\"Essay {result['essay_index']}: Weighted Score = {result['weighted_score']:.3f} - {'AI Generated' if is_ai_generated else 'Likely Human'}\")\n",
        "\n",
        "# 4. Plot a histogram of the weighted scores\n",
        "plt.hist(\n",
        "    [result[\"weighted_score\"] for result in ensemble_output],\n",
        "    bins=20,\n",
        "    edgecolor=\"black\",\n",
        "    alpha=0.7,\n",
        ")\n",
        "plt.xlabel(\"Weighted Score\")\n",
        "plt.ylabel(\"Frequency\")\n",
        "plt.title(\"Histogram of Weighted Scores\")\n",
        "plt.show()\n"
      ]
    }
  ],
  "metadata": {
    "colab": {
      "provenance": [],
      "machine_shape": "hm",
      "gpuType": "A100",
      "include_colab_link": true
    },
    "kernelspec": {
      "display_name": "Python 3",
      "name": "python3"
    },
    "language_info": {
      "codemirror_mode": {
        "name": "ipython",
        "version": 3
      },
      "file_extension": ".py",
      "mimetype": "text/x-python",
      "name": "python",
      "nbconvert_exporter": "python",
      "pygments_lexer": "ipython3",
      "version": "3.11.0"
    },
    "accelerator": "GPU"
  },
  "nbformat": 4,
  "nbformat_minor": 0
}